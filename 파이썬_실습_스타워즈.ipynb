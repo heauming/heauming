{
  "nbformat": 4,
  "nbformat_minor": 0,
  "metadata": {
    "colab": {
      "name": "파이썬 실습 스타워즈",
      "provenance": [],
      "collapsed_sections": [],
      "mount_file_id": "1u5niX6nuWcBcvFyMYkpfxJtt0dEqOb0U",
      "authorship_tag": "ABX9TyN8hYUExbwGHOmBzUYo0t+I",
      "include_colab_link": true
    },
    "kernelspec": {
      "name": "python3",
      "display_name": "Python 3"
    },
    "language_info": {
      "name": "python"
    }
  },
  "cells": [
    {
      "cell_type": "markdown",
      "metadata": {
        "id": "view-in-github",
        "colab_type": "text"
      },
      "source": [
        "<a href=\"https://colab.research.google.com/github/heauming/heauming/blob/main/%ED%8C%8C%EC%9D%B4%EC%8D%AC_%EC%8B%A4%EC%8A%B5_%EC%8A%A4%ED%83%80%EC%9B%8C%EC%A6%88.ipynb\" target=\"_parent\"><img src=\"https://colab.research.google.com/assets/colab-badge.svg\" alt=\"Open In Colab\"/></a>"
      ]
    },
    {
      "cell_type": "code",
      "execution_count": null,
      "metadata": {
        "colab": {
          "base_uri": "https://localhost:8080/"
        },
        "id": "L3R9YuyxeWFe",
        "outputId": "eb2cd32b-1dba-4780-c4b4-0ce8133c6c95"
      },
      "outputs": [
        {
          "output_type": "stream",
          "name": "stdout",
          "text": [
            "Reading package lists... Done\n",
            "Building dependency tree       \n",
            "Reading state information... Done\n",
            "The following NEW packages will be installed:\n",
            "  fonts-nanum\n",
            "0 upgraded, 1 newly installed, 0 to remove and 37 not upgraded.\n",
            "Need to get 9,604 kB of archives.\n",
            "After this operation, 29.5 MB of additional disk space will be used.\n",
            "Get:1 http://archive.ubuntu.com/ubuntu bionic/universe amd64 fonts-nanum all 20170925-1 [9,604 kB]\n",
            "Fetched 9,604 kB in 1s (8,310 kB/s)\n",
            "debconf: unable to initialize frontend: Dialog\n",
            "debconf: (No usable dialog-like program is installed, so the dialog based frontend cannot be used. at /usr/share/perl5/Debconf/FrontEnd/Dialog.pm line 76, <> line 1.)\n",
            "debconf: falling back to frontend: Readline\n",
            "debconf: unable to initialize frontend: Readline\n",
            "debconf: (This frontend requires a controlling tty.)\n",
            "debconf: falling back to frontend: Teletype\n",
            "dpkg-preconfigure: unable to re-open stdin: \n",
            "Selecting previously unselected package fonts-nanum.\n",
            "(Reading database ... 155225 files and directories currently installed.)\n",
            "Preparing to unpack .../fonts-nanum_20170925-1_all.deb ...\n",
            "Unpacking fonts-nanum (20170925-1) ...\n",
            "Setting up fonts-nanum (20170925-1) ...\n",
            "Processing triggers for fontconfig (2.12.6-0ubuntu2) ...\n",
            "/usr/share/fonts: caching, new cache contents: 0 fonts, 1 dirs\n",
            "/usr/share/fonts/truetype: caching, new cache contents: 0 fonts, 3 dirs\n",
            "/usr/share/fonts/truetype/humor-sans: caching, new cache contents: 1 fonts, 0 dirs\n",
            "/usr/share/fonts/truetype/liberation: caching, new cache contents: 16 fonts, 0 dirs\n",
            "/usr/share/fonts/truetype/nanum: caching, new cache contents: 10 fonts, 0 dirs\n",
            "/usr/local/share/fonts: caching, new cache contents: 0 fonts, 0 dirs\n",
            "/root/.local/share/fonts: skipping, no such directory\n",
            "/root/.fonts: skipping, no such directory\n",
            "/var/cache/fontconfig: cleaning cache directory\n",
            "/root/.cache/fontconfig: not cleaning non-existent cache directory\n",
            "/root/.fontconfig: not cleaning non-existent cache directory\n",
            "fc-cache: succeeded\n"
          ]
        }
      ],
      "source": [
        "#한글 폰트 설정하기\n",
        "!sudo apt-get install -y fonts-nanum\n",
        "!sudo fc-cache -fv\n",
        "!rm !/.cache/matplotlib -rf"
      ]
    },
    {
      "cell_type": "code",
      "source": [
        "import math\n",
        "import numpy as np\n",
        "import pandas as pd\n",
        "import seaborn as sns\n",
        "import matplotlib.pyplot as plt\n",
        "plt.rc('font', family = 'NanumBarunGothic') #한글 폰트 가져오기\n",
        "\n",
        "plt.style.use('seaborn') #그래프 기본 설정\n",
        "sns.set(font_scale = 1)\n",
        "import warnings #경고 메시지 무시하기\n",
        "warnings.simplefilter(action = 'ignore', category = FutureWarning)"
      ],
      "metadata": {
        "id": "JVrh-vjQeuEk"
      },
      "execution_count": null,
      "outputs": []
    },
    {
      "cell_type": "code",
      "source": [
        "#구글 드라이브 마운트하기\n",
        "from google.colab import drive\n",
        "drive.mount('/content/gdrive/', force_remount = True)"
      ],
      "metadata": {
        "colab": {
          "base_uri": "https://localhost:8080/"
        },
        "id": "4zGhCIuQhYIM",
        "outputId": "5594a889-7942-4ce2-cd6a-25ace37f2579"
      },
      "execution_count": null,
      "outputs": [
        {
          "output_type": "stream",
          "name": "stdout",
          "text": [
            "Mounted at /content/gdrive/\n"
          ]
        }
      ]
    },
    {
      "cell_type": "code",
      "source": [
        "from google.colab import drive\n",
        "drive.mount('/content/drive')"
      ],
      "metadata": {
        "id": "22eH-Otz1T6Q"
      },
      "execution_count": null,
      "outputs": []
    },
    {
      "cell_type": "code",
      "source": [
        "#데이터 불러오기\n",
        "sw = pd.read_csv('/content/drive/MyDrive/dataset/Starwars.csv')"
      ],
      "metadata": {
        "id": "HUgN3NH9fKs5"
      },
      "execution_count": null,
      "outputs": []
    },
    {
      "cell_type": "code",
      "source": [
        "sw.head()"
      ],
      "metadata": {
        "colab": {
          "base_uri": "https://localhost:8080/",
          "height": 322
        },
        "id": "uXQTPY7rjP3I",
        "outputId": "dc64c9ee-8ff6-417a-9641-ef5f6e02ce70"
      },
      "execution_count": null,
      "outputs": [
        {
          "output_type": "execute_result",
          "data": {
            "text/html": [
              "\n",
              "  <div id=\"df-9738d196-2de4-4d4f-92e3-91355909e45c\">\n",
              "    <div class=\"colab-df-container\">\n",
              "      <div>\n",
              "<style scoped>\n",
              "    .dataframe tbody tr th:only-of-type {\n",
              "        vertical-align: middle;\n",
              "    }\n",
              "\n",
              "    .dataframe tbody tr th {\n",
              "        vertical-align: top;\n",
              "    }\n",
              "\n",
              "    .dataframe thead th {\n",
              "        text-align: right;\n",
              "    }\n",
              "</style>\n",
              "<table border=\"1\" class=\"dataframe\">\n",
              "  <thead>\n",
              "    <tr style=\"text-align: right;\">\n",
              "      <th></th>\n",
              "      <th>name</th>\n",
              "      <th>height</th>\n",
              "      <th>mass</th>\n",
              "      <th>hair_color</th>\n",
              "      <th>skin_color</th>\n",
              "      <th>eye_color</th>\n",
              "      <th>birth_year</th>\n",
              "      <th>sex</th>\n",
              "      <th>gender</th>\n",
              "      <th>homeworld</th>\n",
              "      <th>species</th>\n",
              "    </tr>\n",
              "  </thead>\n",
              "  <tbody>\n",
              "    <tr>\n",
              "      <th>0</th>\n",
              "      <td>Luke Skywalker</td>\n",
              "      <td>172.0</td>\n",
              "      <td>77.0</td>\n",
              "      <td>blond</td>\n",
              "      <td>fair</td>\n",
              "      <td>blue</td>\n",
              "      <td>19.0</td>\n",
              "      <td>male</td>\n",
              "      <td>masculine</td>\n",
              "      <td>Tatooine</td>\n",
              "      <td>Human</td>\n",
              "    </tr>\n",
              "    <tr>\n",
              "      <th>1</th>\n",
              "      <td>C-3PO</td>\n",
              "      <td>167.0</td>\n",
              "      <td>75.0</td>\n",
              "      <td>NaN</td>\n",
              "      <td>gold</td>\n",
              "      <td>yellow</td>\n",
              "      <td>112.0</td>\n",
              "      <td>none</td>\n",
              "      <td>masculine</td>\n",
              "      <td>Tatooine</td>\n",
              "      <td>Droid</td>\n",
              "    </tr>\n",
              "    <tr>\n",
              "      <th>2</th>\n",
              "      <td>R2-D2</td>\n",
              "      <td>96.0</td>\n",
              "      <td>32.0</td>\n",
              "      <td>NaN</td>\n",
              "      <td>white, blue</td>\n",
              "      <td>red</td>\n",
              "      <td>33.0</td>\n",
              "      <td>none</td>\n",
              "      <td>masculine</td>\n",
              "      <td>Naboo</td>\n",
              "      <td>Droid</td>\n",
              "    </tr>\n",
              "    <tr>\n",
              "      <th>3</th>\n",
              "      <td>Darth Vader</td>\n",
              "      <td>202.0</td>\n",
              "      <td>136.0</td>\n",
              "      <td>none</td>\n",
              "      <td>white</td>\n",
              "      <td>yellow</td>\n",
              "      <td>41.9</td>\n",
              "      <td>male</td>\n",
              "      <td>masculine</td>\n",
              "      <td>Tatooine</td>\n",
              "      <td>Human</td>\n",
              "    </tr>\n",
              "    <tr>\n",
              "      <th>4</th>\n",
              "      <td>Leia Organa</td>\n",
              "      <td>150.0</td>\n",
              "      <td>49.0</td>\n",
              "      <td>brown</td>\n",
              "      <td>light</td>\n",
              "      <td>brown</td>\n",
              "      <td>19.0</td>\n",
              "      <td>female</td>\n",
              "      <td>feminine</td>\n",
              "      <td>Alderaan</td>\n",
              "      <td>Human</td>\n",
              "    </tr>\n",
              "  </tbody>\n",
              "</table>\n",
              "</div>\n",
              "      <button class=\"colab-df-convert\" onclick=\"convertToInteractive('df-9738d196-2de4-4d4f-92e3-91355909e45c')\"\n",
              "              title=\"Convert this dataframe to an interactive table.\"\n",
              "              style=\"display:none;\">\n",
              "        \n",
              "  <svg xmlns=\"http://www.w3.org/2000/svg\" height=\"24px\"viewBox=\"0 0 24 24\"\n",
              "       width=\"24px\">\n",
              "    <path d=\"M0 0h24v24H0V0z\" fill=\"none\"/>\n",
              "    <path d=\"M18.56 5.44l.94 2.06.94-2.06 2.06-.94-2.06-.94-.94-2.06-.94 2.06-2.06.94zm-11 1L8.5 8.5l.94-2.06 2.06-.94-2.06-.94L8.5 2.5l-.94 2.06-2.06.94zm10 10l.94 2.06.94-2.06 2.06-.94-2.06-.94-.94-2.06-.94 2.06-2.06.94z\"/><path d=\"M17.41 7.96l-1.37-1.37c-.4-.4-.92-.59-1.43-.59-.52 0-1.04.2-1.43.59L10.3 9.45l-7.72 7.72c-.78.78-.78 2.05 0 2.83L4 21.41c.39.39.9.59 1.41.59.51 0 1.02-.2 1.41-.59l7.78-7.78 2.81-2.81c.8-.78.8-2.07 0-2.86zM5.41 20L4 18.59l7.72-7.72 1.47 1.35L5.41 20z\"/>\n",
              "  </svg>\n",
              "      </button>\n",
              "      \n",
              "  <style>\n",
              "    .colab-df-container {\n",
              "      display:flex;\n",
              "      flex-wrap:wrap;\n",
              "      gap: 12px;\n",
              "    }\n",
              "\n",
              "    .colab-df-convert {\n",
              "      background-color: #E8F0FE;\n",
              "      border: none;\n",
              "      border-radius: 50%;\n",
              "      cursor: pointer;\n",
              "      display: none;\n",
              "      fill: #1967D2;\n",
              "      height: 32px;\n",
              "      padding: 0 0 0 0;\n",
              "      width: 32px;\n",
              "    }\n",
              "\n",
              "    .colab-df-convert:hover {\n",
              "      background-color: #E2EBFA;\n",
              "      box-shadow: 0px 1px 2px rgba(60, 64, 67, 0.3), 0px 1px 3px 1px rgba(60, 64, 67, 0.15);\n",
              "      fill: #174EA6;\n",
              "    }\n",
              "\n",
              "    [theme=dark] .colab-df-convert {\n",
              "      background-color: #3B4455;\n",
              "      fill: #D2E3FC;\n",
              "    }\n",
              "\n",
              "    [theme=dark] .colab-df-convert:hover {\n",
              "      background-color: #434B5C;\n",
              "      box-shadow: 0px 1px 3px 1px rgba(0, 0, 0, 0.15);\n",
              "      filter: drop-shadow(0px 1px 2px rgba(0, 0, 0, 0.3));\n",
              "      fill: #FFFFFF;\n",
              "    }\n",
              "  </style>\n",
              "\n",
              "      <script>\n",
              "        const buttonEl =\n",
              "          document.querySelector('#df-9738d196-2de4-4d4f-92e3-91355909e45c button.colab-df-convert');\n",
              "        buttonEl.style.display =\n",
              "          google.colab.kernel.accessAllowed ? 'block' : 'none';\n",
              "\n",
              "        async function convertToInteractive(key) {\n",
              "          const element = document.querySelector('#df-9738d196-2de4-4d4f-92e3-91355909e45c');\n",
              "          const dataTable =\n",
              "            await google.colab.kernel.invokeFunction('convertToInteractive',\n",
              "                                                     [key], {});\n",
              "          if (!dataTable) return;\n",
              "\n",
              "          const docLinkHtml = 'Like what you see? Visit the ' +\n",
              "            '<a target=\"_blank\" href=https://colab.research.google.com/notebooks/data_table.ipynb>data table notebook</a>'\n",
              "            + ' to learn more about interactive tables.';\n",
              "          element.innerHTML = '';\n",
              "          dataTable['output_type'] = 'display_data';\n",
              "          await google.colab.output.renderOutput(dataTable, element);\n",
              "          const docLink = document.createElement('div');\n",
              "          docLink.innerHTML = docLinkHtml;\n",
              "          element.appendChild(docLink);\n",
              "        }\n",
              "      </script>\n",
              "    </div>\n",
              "  </div>\n",
              "  "
            ],
            "text/plain": [
              "             name  height   mass  ...     gender homeworld species\n",
              "0  Luke Skywalker   172.0   77.0  ...  masculine  Tatooine   Human\n",
              "1           C-3PO   167.0   75.0  ...  masculine  Tatooine   Droid\n",
              "2           R2-D2    96.0   32.0  ...  masculine     Naboo   Droid\n",
              "3     Darth Vader   202.0  136.0  ...  masculine  Tatooine   Human\n",
              "4     Leia Organa   150.0   49.0  ...   feminine  Alderaan   Human\n",
              "\n",
              "[5 rows x 11 columns]"
            ]
          },
          "metadata": {},
          "execution_count": 18
        }
      ]
    },
    {
      "cell_type": "code",
      "source": [
        "#컬럼 기본 정보 확인하기\n",
        "sw.info()"
      ],
      "metadata": {
        "colab": {
          "base_uri": "https://localhost:8080/"
        },
        "id": "TmuIq1IGjTyN",
        "outputId": "abd47b98-996f-4742-af56-4de4b0f7ceab"
      },
      "execution_count": null,
      "outputs": [
        {
          "output_type": "stream",
          "name": "stdout",
          "text": [
            "<class 'pandas.core.frame.DataFrame'>\n",
            "RangeIndex: 87 entries, 0 to 86\n",
            "Data columns (total 11 columns):\n",
            " #   Column      Non-Null Count  Dtype  \n",
            "---  ------      --------------  -----  \n",
            " 0   name        87 non-null     object \n",
            " 1   height      81 non-null     float64\n",
            " 2   mass        59 non-null     float64\n",
            " 3   hair_color  82 non-null     object \n",
            " 4   skin_color  87 non-null     object \n",
            " 5   eye_color   87 non-null     object \n",
            " 6   birth_year  43 non-null     float64\n",
            " 7   sex         83 non-null     object \n",
            " 8   gender      83 non-null     object \n",
            " 9   homeworld   77 non-null     object \n",
            " 10  species     83 non-null     object \n",
            "dtypes: float64(3), object(8)\n",
            "memory usage: 7.6+ KB\n"
          ]
        }
      ]
    },
    {
      "cell_type": "code",
      "source": [
        "sw.describe()"
      ],
      "metadata": {
        "colab": {
          "base_uri": "https://localhost:8080/",
          "height": 300
        },
        "id": "ZQP5zXE6jQ1Z",
        "outputId": "aba9ae2a-60b1-449a-bd7d-31340dc082cb"
      },
      "execution_count": null,
      "outputs": [
        {
          "output_type": "execute_result",
          "data": {
            "text/html": [
              "\n",
              "  <div id=\"df-d19eed5b-f9ff-4c2c-8751-474e151dd121\">\n",
              "    <div class=\"colab-df-container\">\n",
              "      <div>\n",
              "<style scoped>\n",
              "    .dataframe tbody tr th:only-of-type {\n",
              "        vertical-align: middle;\n",
              "    }\n",
              "\n",
              "    .dataframe tbody tr th {\n",
              "        vertical-align: top;\n",
              "    }\n",
              "\n",
              "    .dataframe thead th {\n",
              "        text-align: right;\n",
              "    }\n",
              "</style>\n",
              "<table border=\"1\" class=\"dataframe\">\n",
              "  <thead>\n",
              "    <tr style=\"text-align: right;\">\n",
              "      <th></th>\n",
              "      <th>height</th>\n",
              "      <th>mass</th>\n",
              "      <th>birth_year</th>\n",
              "    </tr>\n",
              "  </thead>\n",
              "  <tbody>\n",
              "    <tr>\n",
              "      <th>count</th>\n",
              "      <td>81.000000</td>\n",
              "      <td>59.000000</td>\n",
              "      <td>43.000000</td>\n",
              "    </tr>\n",
              "    <tr>\n",
              "      <th>mean</th>\n",
              "      <td>174.358025</td>\n",
              "      <td>97.311864</td>\n",
              "      <td>87.565116</td>\n",
              "    </tr>\n",
              "    <tr>\n",
              "      <th>std</th>\n",
              "      <td>34.770429</td>\n",
              "      <td>169.457163</td>\n",
              "      <td>154.691439</td>\n",
              "    </tr>\n",
              "    <tr>\n",
              "      <th>min</th>\n",
              "      <td>66.000000</td>\n",
              "      <td>15.000000</td>\n",
              "      <td>8.000000</td>\n",
              "    </tr>\n",
              "    <tr>\n",
              "      <th>25%</th>\n",
              "      <td>167.000000</td>\n",
              "      <td>55.600000</td>\n",
              "      <td>35.000000</td>\n",
              "    </tr>\n",
              "    <tr>\n",
              "      <th>50%</th>\n",
              "      <td>180.000000</td>\n",
              "      <td>79.000000</td>\n",
              "      <td>52.000000</td>\n",
              "    </tr>\n",
              "    <tr>\n",
              "      <th>75%</th>\n",
              "      <td>191.000000</td>\n",
              "      <td>84.500000</td>\n",
              "      <td>72.000000</td>\n",
              "    </tr>\n",
              "    <tr>\n",
              "      <th>max</th>\n",
              "      <td>264.000000</td>\n",
              "      <td>1358.000000</td>\n",
              "      <td>896.000000</td>\n",
              "    </tr>\n",
              "  </tbody>\n",
              "</table>\n",
              "</div>\n",
              "      <button class=\"colab-df-convert\" onclick=\"convertToInteractive('df-d19eed5b-f9ff-4c2c-8751-474e151dd121')\"\n",
              "              title=\"Convert this dataframe to an interactive table.\"\n",
              "              style=\"display:none;\">\n",
              "        \n",
              "  <svg xmlns=\"http://www.w3.org/2000/svg\" height=\"24px\"viewBox=\"0 0 24 24\"\n",
              "       width=\"24px\">\n",
              "    <path d=\"M0 0h24v24H0V0z\" fill=\"none\"/>\n",
              "    <path d=\"M18.56 5.44l.94 2.06.94-2.06 2.06-.94-2.06-.94-.94-2.06-.94 2.06-2.06.94zm-11 1L8.5 8.5l.94-2.06 2.06-.94-2.06-.94L8.5 2.5l-.94 2.06-2.06.94zm10 10l.94 2.06.94-2.06 2.06-.94-2.06-.94-.94-2.06-.94 2.06-2.06.94z\"/><path d=\"M17.41 7.96l-1.37-1.37c-.4-.4-.92-.59-1.43-.59-.52 0-1.04.2-1.43.59L10.3 9.45l-7.72 7.72c-.78.78-.78 2.05 0 2.83L4 21.41c.39.39.9.59 1.41.59.51 0 1.02-.2 1.41-.59l7.78-7.78 2.81-2.81c.8-.78.8-2.07 0-2.86zM5.41 20L4 18.59l7.72-7.72 1.47 1.35L5.41 20z\"/>\n",
              "  </svg>\n",
              "      </button>\n",
              "      \n",
              "  <style>\n",
              "    .colab-df-container {\n",
              "      display:flex;\n",
              "      flex-wrap:wrap;\n",
              "      gap: 12px;\n",
              "    }\n",
              "\n",
              "    .colab-df-convert {\n",
              "      background-color: #E8F0FE;\n",
              "      border: none;\n",
              "      border-radius: 50%;\n",
              "      cursor: pointer;\n",
              "      display: none;\n",
              "      fill: #1967D2;\n",
              "      height: 32px;\n",
              "      padding: 0 0 0 0;\n",
              "      width: 32px;\n",
              "    }\n",
              "\n",
              "    .colab-df-convert:hover {\n",
              "      background-color: #E2EBFA;\n",
              "      box-shadow: 0px 1px 2px rgba(60, 64, 67, 0.3), 0px 1px 3px 1px rgba(60, 64, 67, 0.15);\n",
              "      fill: #174EA6;\n",
              "    }\n",
              "\n",
              "    [theme=dark] .colab-df-convert {\n",
              "      background-color: #3B4455;\n",
              "      fill: #D2E3FC;\n",
              "    }\n",
              "\n",
              "    [theme=dark] .colab-df-convert:hover {\n",
              "      background-color: #434B5C;\n",
              "      box-shadow: 0px 1px 3px 1px rgba(0, 0, 0, 0.15);\n",
              "      filter: drop-shadow(0px 1px 2px rgba(0, 0, 0, 0.3));\n",
              "      fill: #FFFFFF;\n",
              "    }\n",
              "  </style>\n",
              "\n",
              "      <script>\n",
              "        const buttonEl =\n",
              "          document.querySelector('#df-d19eed5b-f9ff-4c2c-8751-474e151dd121 button.colab-df-convert');\n",
              "        buttonEl.style.display =\n",
              "          google.colab.kernel.accessAllowed ? 'block' : 'none';\n",
              "\n",
              "        async function convertToInteractive(key) {\n",
              "          const element = document.querySelector('#df-d19eed5b-f9ff-4c2c-8751-474e151dd121');\n",
              "          const dataTable =\n",
              "            await google.colab.kernel.invokeFunction('convertToInteractive',\n",
              "                                                     [key], {});\n",
              "          if (!dataTable) return;\n",
              "\n",
              "          const docLinkHtml = 'Like what you see? Visit the ' +\n",
              "            '<a target=\"_blank\" href=https://colab.research.google.com/notebooks/data_table.ipynb>data table notebook</a>'\n",
              "            + ' to learn more about interactive tables.';\n",
              "          element.innerHTML = '';\n",
              "          dataTable['output_type'] = 'display_data';\n",
              "          await google.colab.output.renderOutput(dataTable, element);\n",
              "          const docLink = document.createElement('div');\n",
              "          docLink.innerHTML = docLinkHtml;\n",
              "          element.appendChild(docLink);\n",
              "        }\n",
              "      </script>\n",
              "    </div>\n",
              "  </div>\n",
              "  "
            ],
            "text/plain": [
              "           height         mass  birth_year\n",
              "count   81.000000    59.000000   43.000000\n",
              "mean   174.358025    97.311864   87.565116\n",
              "std     34.770429   169.457163  154.691439\n",
              "min     66.000000    15.000000    8.000000\n",
              "25%    167.000000    55.600000   35.000000\n",
              "50%    180.000000    79.000000   52.000000\n",
              "75%    191.000000    84.500000   72.000000\n",
              "max    264.000000  1358.000000  896.000000"
            ]
          },
          "metadata": {},
          "execution_count": 20
        }
      ]
    },
    {
      "cell_type": "code",
      "source": [
        "#범주형 데이터의 통계치 확인하기\n",
        "sw.describe(include=np.object)"
      ],
      "metadata": {
        "colab": {
          "base_uri": "https://localhost:8080/",
          "height": 219
        },
        "id": "1slPzab1jljw",
        "outputId": "8c4b6db4-6d42-4008-ba79-745ae8ee8ab5"
      },
      "execution_count": null,
      "outputs": [
        {
          "output_type": "execute_result",
          "data": {
            "text/html": [
              "\n",
              "  <div id=\"df-a0754056-b010-44fa-8702-9fffb4ef1b7e\">\n",
              "    <div class=\"colab-df-container\">\n",
              "      <div>\n",
              "<style scoped>\n",
              "    .dataframe tbody tr th:only-of-type {\n",
              "        vertical-align: middle;\n",
              "    }\n",
              "\n",
              "    .dataframe tbody tr th {\n",
              "        vertical-align: top;\n",
              "    }\n",
              "\n",
              "    .dataframe thead th {\n",
              "        text-align: right;\n",
              "    }\n",
              "</style>\n",
              "<table border=\"1\" class=\"dataframe\">\n",
              "  <thead>\n",
              "    <tr style=\"text-align: right;\">\n",
              "      <th></th>\n",
              "      <th>name</th>\n",
              "      <th>hair_color</th>\n",
              "      <th>skin_color</th>\n",
              "      <th>eye_color</th>\n",
              "      <th>sex</th>\n",
              "      <th>gender</th>\n",
              "      <th>homeworld</th>\n",
              "      <th>species</th>\n",
              "    </tr>\n",
              "  </thead>\n",
              "  <tbody>\n",
              "    <tr>\n",
              "      <th>count</th>\n",
              "      <td>87</td>\n",
              "      <td>82</td>\n",
              "      <td>87</td>\n",
              "      <td>87</td>\n",
              "      <td>83</td>\n",
              "      <td>83</td>\n",
              "      <td>77</td>\n",
              "      <td>83</td>\n",
              "    </tr>\n",
              "    <tr>\n",
              "      <th>unique</th>\n",
              "      <td>87</td>\n",
              "      <td>12</td>\n",
              "      <td>31</td>\n",
              "      <td>15</td>\n",
              "      <td>4</td>\n",
              "      <td>2</td>\n",
              "      <td>48</td>\n",
              "      <td>37</td>\n",
              "    </tr>\n",
              "    <tr>\n",
              "      <th>top</th>\n",
              "      <td>Obi-Wan Kenobi</td>\n",
              "      <td>none</td>\n",
              "      <td>fair</td>\n",
              "      <td>brown</td>\n",
              "      <td>male</td>\n",
              "      <td>masculine</td>\n",
              "      <td>Naboo</td>\n",
              "      <td>Human</td>\n",
              "    </tr>\n",
              "    <tr>\n",
              "      <th>freq</th>\n",
              "      <td>1</td>\n",
              "      <td>37</td>\n",
              "      <td>17</td>\n",
              "      <td>21</td>\n",
              "      <td>60</td>\n",
              "      <td>66</td>\n",
              "      <td>11</td>\n",
              "      <td>35</td>\n",
              "    </tr>\n",
              "  </tbody>\n",
              "</table>\n",
              "</div>\n",
              "      <button class=\"colab-df-convert\" onclick=\"convertToInteractive('df-a0754056-b010-44fa-8702-9fffb4ef1b7e')\"\n",
              "              title=\"Convert this dataframe to an interactive table.\"\n",
              "              style=\"display:none;\">\n",
              "        \n",
              "  <svg xmlns=\"http://www.w3.org/2000/svg\" height=\"24px\"viewBox=\"0 0 24 24\"\n",
              "       width=\"24px\">\n",
              "    <path d=\"M0 0h24v24H0V0z\" fill=\"none\"/>\n",
              "    <path d=\"M18.56 5.44l.94 2.06.94-2.06 2.06-.94-2.06-.94-.94-2.06-.94 2.06-2.06.94zm-11 1L8.5 8.5l.94-2.06 2.06-.94-2.06-.94L8.5 2.5l-.94 2.06-2.06.94zm10 10l.94 2.06.94-2.06 2.06-.94-2.06-.94-.94-2.06-.94 2.06-2.06.94z\"/><path d=\"M17.41 7.96l-1.37-1.37c-.4-.4-.92-.59-1.43-.59-.52 0-1.04.2-1.43.59L10.3 9.45l-7.72 7.72c-.78.78-.78 2.05 0 2.83L4 21.41c.39.39.9.59 1.41.59.51 0 1.02-.2 1.41-.59l7.78-7.78 2.81-2.81c.8-.78.8-2.07 0-2.86zM5.41 20L4 18.59l7.72-7.72 1.47 1.35L5.41 20z\"/>\n",
              "  </svg>\n",
              "      </button>\n",
              "      \n",
              "  <style>\n",
              "    .colab-df-container {\n",
              "      display:flex;\n",
              "      flex-wrap:wrap;\n",
              "      gap: 12px;\n",
              "    }\n",
              "\n",
              "    .colab-df-convert {\n",
              "      background-color: #E8F0FE;\n",
              "      border: none;\n",
              "      border-radius: 50%;\n",
              "      cursor: pointer;\n",
              "      display: none;\n",
              "      fill: #1967D2;\n",
              "      height: 32px;\n",
              "      padding: 0 0 0 0;\n",
              "      width: 32px;\n",
              "    }\n",
              "\n",
              "    .colab-df-convert:hover {\n",
              "      background-color: #E2EBFA;\n",
              "      box-shadow: 0px 1px 2px rgba(60, 64, 67, 0.3), 0px 1px 3px 1px rgba(60, 64, 67, 0.15);\n",
              "      fill: #174EA6;\n",
              "    }\n",
              "\n",
              "    [theme=dark] .colab-df-convert {\n",
              "      background-color: #3B4455;\n",
              "      fill: #D2E3FC;\n",
              "    }\n",
              "\n",
              "    [theme=dark] .colab-df-convert:hover {\n",
              "      background-color: #434B5C;\n",
              "      box-shadow: 0px 1px 3px 1px rgba(0, 0, 0, 0.15);\n",
              "      filter: drop-shadow(0px 1px 2px rgba(0, 0, 0, 0.3));\n",
              "      fill: #FFFFFF;\n",
              "    }\n",
              "  </style>\n",
              "\n",
              "      <script>\n",
              "        const buttonEl =\n",
              "          document.querySelector('#df-a0754056-b010-44fa-8702-9fffb4ef1b7e button.colab-df-convert');\n",
              "        buttonEl.style.display =\n",
              "          google.colab.kernel.accessAllowed ? 'block' : 'none';\n",
              "\n",
              "        async function convertToInteractive(key) {\n",
              "          const element = document.querySelector('#df-a0754056-b010-44fa-8702-9fffb4ef1b7e');\n",
              "          const dataTable =\n",
              "            await google.colab.kernel.invokeFunction('convertToInteractive',\n",
              "                                                     [key], {});\n",
              "          if (!dataTable) return;\n",
              "\n",
              "          const docLinkHtml = 'Like what you see? Visit the ' +\n",
              "            '<a target=\"_blank\" href=https://colab.research.google.com/notebooks/data_table.ipynb>data table notebook</a>'\n",
              "            + ' to learn more about interactive tables.';\n",
              "          element.innerHTML = '';\n",
              "          dataTable['output_type'] = 'display_data';\n",
              "          await google.colab.output.renderOutput(dataTable, element);\n",
              "          const docLink = document.createElement('div');\n",
              "          docLink.innerHTML = docLinkHtml;\n",
              "          element.appendChild(docLink);\n",
              "        }\n",
              "      </script>\n",
              "    </div>\n",
              "  </div>\n",
              "  "
            ],
            "text/plain": [
              "                  name hair_color skin_color  ...     gender homeworld species\n",
              "count               87         82         87  ...         83        77      83\n",
              "unique              87         12         31  ...          2        48      37\n",
              "top     Obi-Wan Kenobi       none       fair  ...  masculine     Naboo   Human\n",
              "freq                 1         37         17  ...         66        11      35\n",
              "\n",
              "[4 rows x 8 columns]"
            ]
          },
          "metadata": {},
          "execution_count": 22
        }
      ]
    },
    {
      "cell_type": "code",
      "source": [
        "sw.isnull().sum().sum()"
      ],
      "metadata": {
        "colab": {
          "base_uri": "https://localhost:8080/"
        },
        "id": "-Y6ShR2qntpw",
        "outputId": "b46e3e68-87c3-4897-cc8c-9f209f14fab0"
      },
      "execution_count": null,
      "outputs": [
        {
          "output_type": "execute_result",
          "data": {
            "text/plain": [
              "105"
            ]
          },
          "metadata": {},
          "execution_count": 32
        }
      ]
    },
    {
      "cell_type": "code",
      "source": [
        "#범주형 데이터 칼럼 안에는 어떤 내용이 들어있을까?\n",
        "print('Hair_color: ', sw['hair_color'].unique())\n",
        "...etc"
      ],
      "metadata": {
        "colab": {
          "base_uri": "https://localhost:8080/"
        },
        "id": "SNhH8Ak5jvFv",
        "outputId": "990b22ff-269d-4dbe-e99a-083813567e87"
      },
      "execution_count": null,
      "outputs": [
        {
          "output_type": "stream",
          "name": "stdout",
          "text": [
            "Hair_color:  ['blond' nan 'none' 'brown' 'brown, grey' 'black' 'auburn, white'\n",
            " 'auburn, grey' 'white' 'grey' 'auburn' 'blonde' 'unknown']\n"
          ]
        }
      ]
    },
    {
      "cell_type": "code",
      "source": [
        "#데이터 내용 간단히 정리해서 출력하기\n",
        "print(\"총 데이터 개수: \", sw.shape[0] * sw.shape[1])\n",
        "print(\"총 결측치 수: {} = 전체 데이터의 {:.2f}%\".format(sw.isnull().sum().sum(), (sw.isnull().sum().sum() * 100) / (sw.shape[0] *sw.shape[1])))\n",
        "print(\"스타워즈에 등장하는 등장인물 수: \", sw['name'].nunique())\n",
        "print(\"스타워즈에 등장하는 종족 수: \", sw['species'].nunique())"
      ],
      "metadata": {
        "colab": {
          "base_uri": "https://localhost:8080/"
        },
        "id": "gnlQ7721mIpg",
        "outputId": "6a906b42-544d-4856-cd63-463d2423647c"
      },
      "execution_count": null,
      "outputs": [
        {
          "output_type": "stream",
          "name": "stdout",
          "text": [
            "총 데이터 개수:  957\n",
            "총 결측치 수: 105 = 전체 데이터의 10.97%\n",
            "스타워즈에 등장하는 등장인물 수:  87\n",
            "스타워즈에 등장하는 종족 수:  37\n"
          ]
        }
      ]
    },
    {
      "cell_type": "markdown",
      "source": [
        "  데이터를 보고 질문 만들기\n",
        "1. 스타워즈 캐릭터의 성별 비율은?\n",
        "2. 성별에 따른 캐릭터의 신장 분포는?\n",
        "3. 가장 무거운 캐릭터와 가장 가벼운 캐릭터는?\n",
        "4. 스타워즈 캐릭터의 키와 몸무게는 상관관계를 가질까?"
      ],
      "metadata": {
        "id": "d0xLSgjlq5FK"
      }
    },
    {
      "cell_type": "markdown",
      "source": [
        "# **데이터 정비하기**"
      ],
      "metadata": {
        "id": "Qbyfm9M5rT_p"
      }
    },
    {
      "cell_type": "markdown",
      "source": [
        "(1) 결측치 처리하기"
      ],
      "metadata": {
        "id": "AOsfxAWcrgr1"
      }
    },
    {
      "cell_type": "code",
      "source": [
        "#null값이 존재하는 컬럼 확인하기\n",
        "sw.isnull().any(axis = 0)"
      ],
      "metadata": {
        "colab": {
          "base_uri": "https://localhost:8080/"
        },
        "id": "1e7FalEYrkUf",
        "outputId": "45afd3e5-5155-43e5-de7c-68de8f6ecc45"
      },
      "execution_count": null,
      "outputs": [
        {
          "output_type": "execute_result",
          "data": {
            "text/plain": [
              "name          False\n",
              "height         True\n",
              "mass           True\n",
              "hair_color     True\n",
              "skin_color    False\n",
              "eye_color     False\n",
              "birth_year     True\n",
              "sex            True\n",
              "gender         True\n",
              "homeworld      True\n",
              "species        True\n",
              "dtype: bool"
            ]
          },
          "metadata": {},
          "execution_count": 48
        }
      ]
    },
    {
      "cell_type": "code",
      "source": [
        "#컬럼별로 null값 개수 확인하기\n",
        "sw.isnull().sum()"
      ],
      "metadata": {
        "colab": {
          "base_uri": "https://localhost:8080/"
        },
        "id": "OYXXuhmysMa6",
        "outputId": "99550978-5d65-4d4d-8856-9b6c155ace64"
      },
      "execution_count": null,
      "outputs": [
        {
          "output_type": "execute_result",
          "data": {
            "text/plain": [
              "name           0\n",
              "height         6\n",
              "mass          28\n",
              "hair_color     5\n",
              "skin_color     0\n",
              "eye_color      0\n",
              "birth_year    44\n",
              "sex            4\n",
              "gender         4\n",
              "homeworld     10\n",
              "species        4\n",
              "dtype: int64"
            ]
          },
          "metadata": {},
          "execution_count": 49
        }
      ]
    },
    {
      "cell_type": "code",
      "source": [
        "#어떤 컬럼의 결측치를 처리할 것인가?\n",
        "#hair color, sex, gender, homeworld, species의 경우 개인 특성임으로 다른 값을 넣는 것이 의미없음\n",
        "#height, mass에서는 결측치를 0으로 처리해보자\n",
        "sw['height'].fillna(0, inplace = True)\n",
        "sw['mass'].fillna(0, inplace = True)"
      ],
      "metadata": {
        "id": "O1H-Zlf0sS8Z"
      },
      "execution_count": null,
      "outputs": []
    },
    {
      "cell_type": "code",
      "source": [
        "#sex에 none도 있고 NaN도 있다?\n",
        "print(sw[sw['sex'] == 'none'])\n",
        "print(sw[sw['sex'].isnull()])"
      ],
      "metadata": {
        "colab": {
          "base_uri": "https://localhost:8080/"
        },
        "id": "XokJu6ZRskjh",
        "outputId": "bdac8386-18f4-48ea-ff88-3618ff9fde0e"
      },
      "execution_count": null,
      "outputs": [
        {
          "output_type": "stream",
          "name": "stdout",
          "text": [
            "      name  height   mass hair_color  ...   sex     gender  homeworld species\n",
            "1    C-3PO   167.0   75.0        NaN  ...  none  masculine   Tatooine   Droid\n",
            "2    R2-D2    96.0   32.0        NaN  ...  none  masculine      Naboo   Droid\n",
            "7    R5-D4    97.0   32.0        NaN  ...  none  masculine   Tatooine   Droid\n",
            "21   IG-88   200.0  140.0       none  ...  none  masculine        NaN   Droid\n",
            "72  R4-P17    96.0    0.0       none  ...  none   feminine        NaN   Droid\n",
            "84     BB8     0.0    0.0       none  ...  none  masculine        NaN   Droid\n",
            "\n",
            "[6 rows x 11 columns]\n",
            "              name  height  mass hair_color  ...  sex gender  homeworld species\n",
            "36        Ric Oli?   183.0   0.0      brown  ...  NaN    NaN      Naboo     NaN\n",
            "39   Quarsh Panaka   183.0   0.0      black  ...  NaN    NaN      Naboo     NaN\n",
            "79       Sly Moore   178.0  48.0       none  ...  NaN    NaN     Umbara     NaN\n",
            "85  Captain Phasma     0.0   0.0    unknown  ...  NaN    NaN        NaN     NaN\n",
            "\n",
            "[4 rows x 11 columns]\n"
          ]
        }
      ]
    },
    {
      "cell_type": "code",
      "source": [
        "#sex = none인 것들은 species가 Droid임으로, 컬럼 내용을 바꿔보자\n",
        "sw['sex'][(sw['sex'] == 'none')] = 'robot'\n",
        "print('Sex: ', sw['sex'].unique())"
      ],
      "metadata": {
        "colab": {
          "base_uri": "https://localhost:8080/"
        },
        "id": "V2FMQpiMyT-e",
        "outputId": "67ffac2a-4139-4644-c967-8feb47746445"
      },
      "execution_count": null,
      "outputs": [
        {
          "output_type": "stream",
          "name": "stdout",
          "text": [
            "Sex:  ['male' 'robot' 'female' 'hermaphroditic' nan]\n"
          ]
        },
        {
          "output_type": "stream",
          "name": "stderr",
          "text": [
            "/usr/local/lib/python3.7/dist-packages/ipykernel_launcher.py:2: SettingWithCopyWarning: \n",
            "A value is trying to be set on a copy of a slice from a DataFrame\n",
            "\n",
            "See the caveats in the documentation: https://pandas.pydata.org/pandas-docs/stable/user_guide/indexing.html#returning-a-view-versus-a-copy\n",
            "  \n"
          ]
        }
      ]
    },
    {
      "cell_type": "markdown",
      "source": [
        "# **EDA & Visualization**"
      ],
      "metadata": {
        "id": "1HGWCauUzEGz"
      }
    },
    {
      "cell_type": "markdown",
      "source": [
        "(1) 스타워즈 캐릭터의 성별 비율"
      ],
      "metadata": {
        "id": "e5vsZLQhzJT2"
      }
    },
    {
      "cell_type": "code",
      "source": [
        "#스타워즈 캐릭터의 성비(sex, gender)는?\n",
        "print(sw['gender'].value_counts())\n",
        "print(sw['sex'].value_counts())"
      ],
      "metadata": {
        "colab": {
          "base_uri": "https://localhost:8080/"
        },
        "id": "a5ipycImzOJA",
        "outputId": "7079b2ba-1ae2-42b0-ffc3-bdabee976964"
      },
      "execution_count": null,
      "outputs": [
        {
          "output_type": "stream",
          "name": "stdout",
          "text": [
            "masculine    66\n",
            "feminine     17\n",
            "Name: gender, dtype: int64\n",
            "male              60\n",
            "female            16\n",
            "robot              6\n",
            "hermaphroditic     1\n",
            "Name: sex, dtype: int64\n"
          ]
        }
      ]
    },
    {
      "cell_type": "code",
      "source": [
        "fig, ax = plt.subplots(1, 2, figsize = (18, 8)) #figure는 ax를 나타내며 ax는 얼마나 크기의 그래프를 그릴 지 결정\n",
        "#sns.pieplot\n",
        "sw['gender'].value_counts().plot.pie(ax = ax[0], autopct = '%1.0f%%', shadow = True) #파이그래프 그리기\n",
        "ax[0].set_title('Starwars: Gender', size = 18) #그래프 제목\n",
        "ax[0].set_ylabel('') #y라벨 없애기\n",
        "\n",
        "#sns.countplot\n",
        "#항목별 갯수를 세어주는 countplot\n",
        "#알아서 해당 column을 구성하고 있는 vlaue들을 구분하여 보여준다\n",
        "sns.countplot(data = sw, x = 'sex', ax = ax[1])\n",
        "ax[1].set_title('Starwars: Sex', size = 18)\n",
        "\n",
        "plt.show()"
      ],
      "metadata": {
        "colab": {
          "base_uri": "https://localhost:8080/",
          "height": 387
        },
        "id": "SCs4LoH2zmWZ",
        "outputId": "4ac15662-0f1e-450b-8e65-5ebaa0d04a7d"
      },
      "execution_count": null,
      "outputs": [
        {
          "output_type": "display_data",
          "data": {
            "image/png": "[encoded data removed]",
            "text/plain": [
              "<Figure size 1296x576 with 2 Axes>"
            ]
          },
          "metadata": {}
        }
      ]
    },
    {
      "cell_type": "markdown",
      "source": [
        "(2) 스타워즈 캐릭터의 성별에 따른 신장 분포"
      ],
      "metadata": {
        "id": "SwT-66u84hiw"
      }
    },
    {
      "cell_type": "code",
      "source": [
        "#스타워즈 캐릭터의 신장 확인하기\n",
        "#연속형(수치) 데이터의 통계치 확인하기: 최솟값과 최댓값\n",
        "sw['height'].describe()"
      ],
      "metadata": {
        "colab": {
          "base_uri": "https://localhost:8080/"
        },
        "id": "pdb0PRW04m1A",
        "outputId": "4924305b-9fb9-42e7-c056-07662215d844"
      },
      "execution_count": null,
      "outputs": [
        {
          "output_type": "execute_result",
          "data": {
            "text/plain": [
              "count     87.000000\n",
              "mean     162.333333\n",
              "std       55.671726\n",
              "min        0.000000\n",
              "25%      164.000000\n",
              "50%      178.000000\n",
              "75%      190.500000\n",
              "max      264.000000\n",
              "Name: height, dtype: float64"
            ]
          },
          "metadata": {},
          "execution_count": 73
        }
      ]
    },
    {
      "cell_type": "code",
      "source": [
        "#skewness and kurtosis 구하기\n",
        "#skewness(왜도) : 데이터가 정규분포에서 얼마나 한 쪽으로 치우쳐져 있는지?\n",
        "# -3 < skewness < 3 사이의 값이면 기준에 부합한다\n",
        "#kurtosis(첨도) : 얼마나 뾰족한가(데이터가 얼마나 평균 근처에 몰려있는가?)\n",
        "# 정규분포의 kurtosis = 0\n",
        "print('Skewness: %f' % sw['height'].skew())\n",
        "print('Kurtosis: %f' % sw['height'].kurt())\n"
      ],
      "metadata": {
        "colab": {
          "base_uri": "https://localhost:8080/"
        },
        "id": "_n2fw-po5Yki",
        "outputId": "902bde11-8a25-4dc4-964f-59aec4dfdf32"
      },
      "execution_count": null,
      "outputs": [
        {
          "output_type": "stream",
          "name": "stdout",
          "text": [
            "Skewness: -1.760878\n",
            "Kurtosis: 2.927697\n"
          ]
        }
      ]
    },
    {
      "cell_type": "code",
      "source": [
        "#자웅동체(hermaphroditic) 캐릭터는 하나 뿐임으로 확률분포를 구하는 것은 불가능"
      ],
      "metadata": {
        "id": "zJZy2QEG6JHj"
      },
      "execution_count": null,
      "outputs": []
    },
    {
      "cell_type": "code",
      "source": [
        "fig, ax = plt.subplots(1, 2, figsize = (16, 5))\n",
        "\n",
        "#sns.distplot\n",
        "sns.distplot(sw[sw['sex'] == 'male']['height'], ax = ax[0])\n",
        "sns.distplot(sw[sw['sex'] == 'female']['height'], ax = ax[0])\n",
        "sns.distplot(sw[sw['sex'] == 'robot']['height'], ax = ax[0])\n",
        "ax[0].legend(['male', 'female', 'robot'])\n",
        "\n",
        "#sns.kdeplot\n",
        "sns.kdeplot(sw[sw['gender'] == 'masculine']['height'], ax = ax[1])\n",
        "sns.kdeplot(sw[sw['gender'] == 'feminine']['height'], ax = ax[1])\n",
        "ax[1].legend(['masculine', 'feminine'])\n",
        "\n",
        "plt.show()"
      ],
      "metadata": {
        "colab": {
          "base_uri": "https://localhost:8080/",
          "height": 265
        },
        "id": "aMFIfs-36Rji",
        "outputId": "32f8091a-cbb7-41ed-f67f-14ebbaa23a04"
      },
      "execution_count": null,
      "outputs": [
        {
          "output_type": "display_data",
          "data": {
            "image/png": "[encoded data removed]",
            "text/plain": [
              "<Figure size 1152x360 with 2 Axes>"
            ]
          },
          "metadata": {}
        }
      ]
    },
    {
      "cell_type": "markdown",
      "source": [
        "(3) 가장 가벼운 캐릭터와 가장 무거운 캐릭터"
      ],
      "metadata": {
        "id": "rONqsiZp8tz8"
      }
    },
    {
      "cell_type": "code",
      "source": [
        "#몸무게가 가장 가벼운 캐릭터\n",
        "notz = sw[sw['mass'] != 0]\n",
        "min(notz['mass'])"
      ],
      "metadata": {
        "colab": {
          "base_uri": "https://localhost:8080/"
        },
        "id": "FaIbix_z8zG9",
        "outputId": "df384e00-2bae-47f6-858e-22a1ff5ddc45"
      },
      "execution_count": null,
      "outputs": [
        {
          "output_type": "execute_result",
          "data": {
            "text/plain": [
              "15.0"
            ]
          },
          "metadata": {},
          "execution_count": 81
        }
      ]
    },
    {
      "cell_type": "markdown",
      "source": [
        "(4) 스타워즈 캐릭터의 종족 간 몸무게 비교"
      ],
      "metadata": {
        "id": "xONeOZId8-2u"
      }
    },
    {
      "cell_type": "code",
      "source": [
        "#groupby로 스타워즈 종족 별 평균 몸무게를 계싼해보자\n",
        "weight = notz[['species', 'mass']].groupby(by = ['species'], as_index = True).mean()\n",
        "print(weight)"
      ],
      "metadata": {
        "colab": {
          "base_uri": "https://localhost:8080/"
        },
        "id": "j4mcbeEC9CV0",
        "outputId": "adbfb064-8367-4400-d1bb-17ba8694fc47"
      },
      "execution_count": null,
      "outputs": [
        {
          "output_type": "stream",
          "name": "stdout",
          "text": [
            "                       mass\n",
            "species                    \n",
            "Aleena            15.000000\n",
            "Besalisk         102.000000\n",
            "Cerean            82.000000\n",
            "Clawdite          55.000000\n",
            "Droid             69.750000\n",
            "Dug               40.000000\n",
            "Ewok              20.000000\n",
            "Geonosian         80.000000\n",
            "Gungan            74.000000\n",
            "Human             82.781818\n",
            "Hutt            1358.000000\n",
            "Kaleesh          159.000000\n",
            "Kaminoan          88.000000\n",
            "Kel Dor           80.000000\n",
            "Mirialan          53.100000\n",
            "Mon Calamari      83.000000\n",
            "Nautolan          87.000000\n",
            "Neimodian         90.000000\n",
            "Pau'an            80.000000\n",
            "Rodian            74.000000\n",
            "Skakoan           48.000000\n",
            "Sullustan         68.000000\n",
            "Tholothian        50.000000\n",
            "Togruta           57.000000\n",
            "Toong             65.000000\n",
            "Trandoshan       113.000000\n",
            "Twi'lek           55.000000\n",
            "Vulptereen        45.000000\n",
            "Wookiee          124.000000\n",
            "Yoda's species    17.000000\n",
            "Zabrak            80.000000\n"
          ]
        }
      ]
    },
    {
      "cell_type": "code",
      "source": [
        "#몸무게가 많은 순으로 상위 10개 종족을 그래프로 그려보자\n",
        "weight['mass'].sort_values(ascending = False).head(10).plot.bar(color = 'red')\n",
        "\n",
        "plt.xticks(rotation = 45)\n",
        "plt.show()"
      ],
      "metadata": {
        "colab": {
          "base_uri": "https://localhost:8080/",
          "height": 421
        },
        "id": "_3jwQs4x9zVM",
        "outputId": "91c59f30-5de9-4671-f67d-2b5d5c0080f2"
      },
      "execution_count": null,
      "outputs": [
        {
          "output_type": "display_data",
          "data": {
            "image/png": "[encoded data removed]",
            "text/plain": [
              "<Figure size 576x396 with 1 Axes>"
            ]
          },
          "metadata": {}
        }
      ]
    },
    {
      "cell_type": "code",
      "source": [
        "#스타워즈 종족별 몸무게가 많이 나가는 순으로 그래프를 그려보자\n",
        "fig, ax = plt.subplots(1, 1, figsize = (10, 8))\n",
        "colors = sns.color_palette('autumn', len(weight['mass'])) #his라는 컬러팔레트에서 어떤 컬러를 입혀줄지 결정\n",
        "\n",
        "g = weight['mass'].sort_values(ascending = False).plot.bar(color = colors)\n",
        "g.set_xticklabels(g.get_xticklabels(), rotation = 90) #라벨을 90도 돌려주기\n",
        "plt.show()"
      ],
      "metadata": {
        "colab": {
          "base_uri": "https://localhost:8080/",
          "height": 575
        },
        "id": "JBMYlC53-jSI",
        "outputId": "ed716115-a5c1-4043-9cb0-d8cd213222fe"
      },
      "execution_count": null,
      "outputs": [
        {
          "output_type": "display_data",
          "data": {
            "image/png": "[encoded data removed]",
            "text/plain": [
              "<Figure size 720x576 with 1 Axes>"
            ]
          },
          "metadata": {}
        }
      ]
    },
    {
      "cell_type": "markdown",
      "source": [
        "(5) 스타워즈 캐릭터의 무게 - 키 상관관계"
      ],
      "metadata": {
        "id": "zHeORsTXATSC"
      }
    },
    {
      "cell_type": "code",
      "source": [
        "#Hutt은 몸무게가 너무 outlier 함으로 out시키자\n",
        "#몸무게가 0인 것도 제외시키자\n",
        "out1 = sw['species'].isin(['Hutt'])\n",
        "out2 = sw['mass'].isin(['0'])\n",
        "sw[-out1][-out2].shape"
      ],
      "metadata": {
        "colab": {
          "base_uri": "https://localhost:8080/"
        },
        "id": "1E3CmLK9AWbU",
        "outputId": "6a878415-f1e9-471a-d90f-b1174b80bafa"
      },
      "execution_count": null,
      "outputs": [
        {
          "output_type": "stream",
          "name": "stderr",
          "text": [
            "/usr/local/lib/python3.7/dist-packages/ipykernel_launcher.py:5: UserWarning: Boolean Series key will be reindexed to match DataFrame index.\n",
            "  \"\"\"\n"
          ]
        },
        {
          "output_type": "execute_result",
          "data": {
            "text/plain": [
              "(58, 11)"
            ]
          },
          "metadata": {},
          "execution_count": 96
        }
      ]
    },
    {
      "cell_type": "code",
      "source": [
        "#두 데이터 사이의 상관관계를 나타내주는 lmplot\n",
        "#replot은 점만 나타난다\n",
        "\n",
        "sns.lmplot(data = sw[-out1][-out2], x = 'height', y = 'mass', hue = 'gender') #hue = gender로도 살펴보기\n",
        "sns.set_style(style = 'darkgrid')\n",
        "plt.show()"
      ],
      "metadata": {
        "colab": {
          "base_uri": "https://localhost:8080/",
          "height": 423
        },
        "id": "docx_Og9A-IA",
        "outputId": "2d5a5101-edbf-42a5-c047-b03bf7b19282"
      },
      "execution_count": null,
      "outputs": [
        {
          "output_type": "stream",
          "name": "stderr",
          "text": [
            "/usr/local/lib/python3.7/dist-packages/ipykernel_launcher.py:4: UserWarning: Boolean Series key will be reindexed to match DataFrame index.\n",
            "  after removing the cwd from sys.path.\n"
          ]
        },
        {
          "output_type": "display_data",
          "data": {
            "image/png": "[encoded data removed]",
            "text/plain": [
              "<Figure size 455.975x360 with 1 Axes>"
            ]
          },
          "metadata": {}
        }
      ]
    }
  ]
}