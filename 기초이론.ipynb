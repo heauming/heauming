{
  "nbformat": 4,
  "nbformat_minor": 0,
  "metadata": {
    "colab": {
      "name": "기초이론",
      "provenance": [],
      "collapsed_sections": [],
      "authorship_tag": "ABX9TyN+Lm3NPwqlZ2qc9tRlcpG5",
      "include_colab_link": true
    },
    "kernelspec": {
      "name": "python3",
      "display_name": "Python 3"
    },
    "language_info": {
      "name": "python"
    }
  },
  "cells": [
    {
      "cell_type": "markdown",
      "metadata": {
        "id": "view-in-github",
        "colab_type": "text"
      },
      "source": [
        "<a href=\"https://colab.research.google.com/github/heauming/heauming/blob/main/%EA%B8%B0%EC%B4%88%EC%9D%B4%EB%A1%A0.ipynb\" target=\"_parent\"><img src=\"https://colab.research.google.com/assets/colab-badge.svg\" alt=\"Open In Colab\"/></a>"
      ]
    },
    {
      "cell_type": "code",
      "execution_count": null,
      "metadata": {
        "colab": {
          "base_uri": "https://localhost:8080/"
        },
        "id": "_5U_9FcMvoQ-",
        "outputId": "8f316254-e895-42f5-ad1a-778ec1a3b197"
      },
      "outputs": [
        {
          "output_type": "stream",
          "name": "stdout",
          "text": [
            "Reading package lists... Done\n",
            "Building dependency tree       \n",
            "Reading state information... Done\n",
            "fonts-nanum is already the newest version (20170925-1).\n",
            "0 upgraded, 0 newly installed, 0 to remove and 37 not upgraded.\n",
            "/usr/share/fonts: caching, new cache contents: 0 fonts, 1 dirs\n",
            "/usr/share/fonts/truetype: caching, new cache contents: 0 fonts, 3 dirs\n",
            "/usr/share/fonts/truetype/humor-sans: caching, new cache contents: 1 fonts, 0 dirs\n",
            "/usr/share/fonts/truetype/liberation: caching, new cache contents: 16 fonts, 0 dirs\n",
            "/usr/share/fonts/truetype/nanum: caching, new cache contents: 10 fonts, 0 dirs\n",
            "/usr/local/share/fonts: caching, new cache contents: 0 fonts, 0 dirs\n",
            "/root/.local/share/fonts: skipping, no such directory\n",
            "/root/.fonts: skipping, no such directory\n",
            "/var/cache/fontconfig: cleaning cache directory\n",
            "/root/.cache/fontconfig: not cleaning non-existent cache directory\n",
            "/root/.fontconfig: not cleaning non-existent cache directory\n",
            "fc-cache: succeeded\n"
          ]
        }
      ],
      "source": [
        "!sudo apt-get install -y fonts-nanum\n",
        "!sudo fc-cache -fv\n",
        "!rm ~/.cache/matplotlib -rf"
      ]
    },
    {
      "cell_type": "code",
      "source": [
        "import math\n",
        "import numpy as np\n",
        "import seaborn as sns\n",
        "import pandas as pd\n",
        "import matplotlib.pyplot as plt"
      ],
      "metadata": {
        "id": "tRALoKhEkl0R"
      },
      "execution_count": null,
      "outputs": []
    },
    {
      "cell_type": "code",
      "source": [
        "from google.colab import drive\n",
        "drive.mount('/content/gdrive/')"
      ],
      "metadata": {
        "colab": {
          "base_uri": "https://localhost:8080/"
        },
        "id": "yRZkAEiKvLqK",
        "outputId": "4460fd47-1dec-44b6-ada0-c61fdc6773c1"
      },
      "execution_count": null,
      "outputs": [
        {
          "output_type": "stream",
          "name": "stdout",
          "text": [
            "Mounted at /content/gdrive/\n"
          ]
        }
      ]
    },
    {
      "cell_type": "code",
      "source": [
        "from sklearn.datasets import load_iris"
      ],
      "metadata": {
        "id": "3I1RKlffmiOR"
      },
      "execution_count": null,
      "outputs": []
    },
    {
      "cell_type": "code",
      "source": [
        "data = load_iris()"
      ],
      "metadata": {
        "id": "Q5kyR6fomlZR"
      },
      "execution_count": null,
      "outputs": []
    },
    {
      "cell_type": "code",
      "source": [
        "print(data.DESCR) #DESCR 데이터 셋의 특징을 요약해주는 함수"
      ],
      "metadata": {
        "colab": {
          "base_uri": "https://localhost:8080/"
        },
        "id": "rrp1hQu7mnxS",
        "outputId": "6ce3b4d2-e720-4863-9e84-6653eb4140b8"
      },
      "execution_count": null,
      "outputs": [
        {
          "output_type": "stream",
          "name": "stdout",
          "text": [
            ".. _iris_dataset:\n",
            "\n",
            "Iris plants dataset\n",
            "--------------------\n",
            "\n",
            "**Data Set Characteristics:**\n",
            "\n",
            "    :Number of Instances: 150 (50 in each of three classes)\n",
            "    :Number of Attributes: 4 numeric, predictive attributes and the class\n",
            "    :Attribute Information:\n",
            "        - sepal length in cm\n",
            "        - sepal width in cm\n",
            "        - petal length in cm\n",
            "        - petal width in cm\n",
            "        - class:\n",
            "                - Iris-Setosa\n",
            "                - Iris-Versicolour\n",
            "                - Iris-Virginica\n",
            "                \n",
            "    :Summary Statistics:\n",
            "\n",
            "    ============== ==== ==== ======= ===== ====================\n",
            "                    Min  Max   Mean    SD   Class Correlation\n",
            "    ============== ==== ==== ======= ===== ====================\n",
            "    sepal length:   4.3  7.9   5.84   0.83    0.7826\n",
            "    sepal width:    2.0  4.4   3.05   0.43   -0.4194\n",
            "    petal length:   1.0  6.9   3.76   1.76    0.9490  (high!)\n",
            "    petal width:    0.1  2.5   1.20   0.76    0.9565  (high!)\n",
            "    ============== ==== ==== ======= ===== ====================\n",
            "\n",
            "    :Missing Attribute Values: None\n",
            "    :Class Distribution: 33.3% for each of 3 classes.\n",
            "    :Creator: R.A. Fisher\n",
            "    :Donor: Michael Marshall (MARSHALL%PLU@io.arc.nasa.gov)\n",
            "    :Date: July, 1988\n",
            "\n",
            "The famous Iris database, first used by Sir R.A. Fisher. The dataset is taken\n",
            "from Fisher's paper. Note that it's the same as in R, but not as in the UCI\n",
            "Machine Learning Repository, which has two wrong data points.\n",
            "\n",
            "This is perhaps the best known database to be found in the\n",
            "pattern recognition literature.  Fisher's paper is a classic in the field and\n",
            "is referenced frequently to this day.  (See Duda & Hart, for example.)  The\n",
            "data set contains 3 classes of 50 instances each, where each class refers to a\n",
            "type of iris plant.  One class is linearly separable from the other 2; the\n",
            "latter are NOT linearly separable from each other.\n",
            "\n",
            ".. topic:: References\n",
            "\n",
            "   - Fisher, R.A. \"The use of multiple measurements in taxonomic problems\"\n",
            "     Annual Eugenics, 7, Part II, 179-188 (1936); also in \"Contributions to\n",
            "     Mathematical Statistics\" (John Wiley, NY, 1950).\n",
            "   - Duda, R.O., & Hart, P.E. (1973) Pattern Classification and Scene Analysis.\n",
            "     (Q327.D83) John Wiley & Sons.  ISBN 0-471-22361-1.  See page 218.\n",
            "   - Dasarathy, B.V. (1980) \"Nosing Around the Neighborhood: A New System\n",
            "     Structure and Classification Rule for Recognition in Partially Exposed\n",
            "     Environments\".  IEEE Transactions on Pattern Analysis and Machine\n",
            "     Intelligence, Vol. PAMI-2, No. 1, 67-71.\n",
            "   - Gates, G.W. (1972) \"The Reduced Nearest Neighbor Rule\".  IEEE Transactions\n",
            "     on Information Theory, May 1972, 431-433.\n",
            "   - See also: 1988 MLC Proceedings, 54-64.  Cheeseman et al\"s AUTOCLASS II\n",
            "     conceptual clustering system finds 3 classes in the data.\n",
            "   - Many, many more ...\n"
          ]
        }
      ]
    },
    {
      "cell_type": "code",
      "source": [
        "from sklearn.datasets import load_wine"
      ],
      "metadata": {
        "id": "2kmrzyJymyH9"
      },
      "execution_count": null,
      "outputs": []
    },
    {
      "cell_type": "code",
      "source": [
        "data = load_wine()"
      ],
      "metadata": {
        "id": "27paSUzQmqBI"
      },
      "execution_count": null,
      "outputs": []
    },
    {
      "cell_type": "code",
      "source": [
        "print(data.DESCR)"
      ],
      "metadata": {
        "colab": {
          "base_uri": "https://localhost:8080/"
        },
        "id": "KvyuZJQFm_FH",
        "outputId": "c23b7a3e-82fd-4e44-fd0b-a9aebee43658"
      },
      "execution_count": null,
      "outputs": [
        {
          "output_type": "stream",
          "name": "stdout",
          "text": [
            ".. _wine_dataset:\n",
            "\n",
            "Wine recognition dataset\n",
            "------------------------\n",
            "\n",
            "**Data Set Characteristics:**\n",
            "\n",
            "    :Number of Instances: 178 (50 in each of three classes)\n",
            "    :Number of Attributes: 13 numeric, predictive attributes and the class\n",
            "    :Attribute Information:\n",
            " \t\t- Alcohol\n",
            " \t\t- Malic acid\n",
            " \t\t- Ash\n",
            "\t\t- Alcalinity of ash  \n",
            " \t\t- Magnesium\n",
            "\t\t- Total phenols\n",
            " \t\t- Flavanoids\n",
            " \t\t- Nonflavanoid phenols\n",
            " \t\t- Proanthocyanins\n",
            "\t\t- Color intensity\n",
            " \t\t- Hue\n",
            " \t\t- OD280/OD315 of diluted wines\n",
            " \t\t- Proline\n",
            "\n",
            "    - class:\n",
            "            - class_0\n",
            "            - class_1\n",
            "            - class_2\n",
            "\t\t\n",
            "    :Summary Statistics:\n",
            "    \n",
            "    ============================= ==== ===== ======= =====\n",
            "                                   Min   Max   Mean     SD\n",
            "    ============================= ==== ===== ======= =====\n",
            "    Alcohol:                      11.0  14.8    13.0   0.8\n",
            "    Malic Acid:                   0.74  5.80    2.34  1.12\n",
            "    Ash:                          1.36  3.23    2.36  0.27\n",
            "    Alcalinity of Ash:            10.6  30.0    19.5   3.3\n",
            "    Magnesium:                    70.0 162.0    99.7  14.3\n",
            "    Total Phenols:                0.98  3.88    2.29  0.63\n",
            "    Flavanoids:                   0.34  5.08    2.03  1.00\n",
            "    Nonflavanoid Phenols:         0.13  0.66    0.36  0.12\n",
            "    Proanthocyanins:              0.41  3.58    1.59  0.57\n",
            "    Colour Intensity:              1.3  13.0     5.1   2.3\n",
            "    Hue:                          0.48  1.71    0.96  0.23\n",
            "    OD280/OD315 of diluted wines: 1.27  4.00    2.61  0.71\n",
            "    Proline:                       278  1680     746   315\n",
            "    ============================= ==== ===== ======= =====\n",
            "\n",
            "    :Missing Attribute Values: None\n",
            "    :Class Distribution: class_0 (59), class_1 (71), class_2 (48)\n",
            "    :Creator: R.A. Fisher\n",
            "    :Donor: Michael Marshall (MARSHALL%PLU@io.arc.nasa.gov)\n",
            "    :Date: July, 1988\n",
            "\n",
            "This is a copy of UCI ML Wine recognition datasets.\n",
            "https://archive.ics.uci.edu/ml/machine-learning-databases/wine/wine.data\n",
            "\n",
            "The data is the results of a chemical analysis of wines grown in the same\n",
            "region in Italy by three different cultivators. There are thirteen different\n",
            "measurements taken for different constituents found in the three types of\n",
            "wine.\n",
            "\n",
            "Original Owners: \n",
            "\n",
            "Forina, M. et al, PARVUS - \n",
            "An Extendible Package for Data Exploration, Classification and Correlation. \n",
            "Institute of Pharmaceutical and Food Analysis and Technologies,\n",
            "Via Brigata Salerno, 16147 Genoa, Italy.\n",
            "\n",
            "Citation:\n",
            "\n",
            "Lichman, M. (2013). UCI Machine Learning Repository\n",
            "[https://archive.ics.uci.edu/ml]. Irvine, CA: University of California,\n",
            "School of Information and Computer Science. \n",
            "\n",
            ".. topic:: References\n",
            "\n",
            "  (1) S. Aeberhard, D. Coomans and O. de Vel, \n",
            "  Comparison of Classifiers in High Dimensional Settings, \n",
            "  Tech. Rep. no. 92-02, (1992), Dept. of Computer Science and Dept. of  \n",
            "  Mathematics and Statistics, James Cook University of North Queensland. \n",
            "  (Also submitted to Technometrics). \n",
            "\n",
            "  The data was used with many others for comparing various \n",
            "  classifiers. The classes are separable, though only RDA \n",
            "  has achieved 100% correct classification. \n",
            "  (RDA : 100%, QDA 99.4%, LDA 98.9%, 1NN 96.1% (z-transformed data)) \n",
            "  (All results using the leave-one-out technique) \n",
            "\n",
            "  (2) S. Aeberhard, D. Coomans and O. de Vel, \n",
            "  \"THE CLASSIFICATION PERFORMANCE OF RDA\" \n",
            "  Tech. Rep. no. 92-01, (1992), Dept. of Computer Science and Dept. of \n",
            "  Mathematics and Statistics, James Cook University of North Queensland. \n",
            "  (Also submitted to Journal of Chemometrics).\n",
            "\n"
          ]
        }
      ]
    },
    {
      "cell_type": "code",
      "source": [
        "from sklearn.datasets import load_boston"
      ],
      "metadata": {
        "id": "X4DWJjrfnAcg"
      },
      "execution_count": null,
      "outputs": []
    },
    {
      "cell_type": "code",
      "source": [
        "data = load_boston()"
      ],
      "metadata": {
        "colab": {
          "base_uri": "https://localhost:8080/"
        },
        "id": "HwEArhdsnoRh",
        "outputId": "bd4ad08d-ce32-4ffc-ed9d-830b099b58dc"
      },
      "execution_count": null,
      "outputs": [
        {
          "output_type": "stream",
          "name": "stderr",
          "text": [
            "/usr/local/lib/python3.7/dist-packages/sklearn/utils/deprecation.py:87: FutureWarning: Function load_boston is deprecated; `load_boston` is deprecated in 1.0 and will be removed in 1.2.\n",
            "\n",
            "    The Boston housing prices dataset has an ethical problem. You can refer to\n",
            "    the documentation of this function for further details.\n",
            "\n",
            "    The scikit-learn maintainers therefore strongly discourage the use of this\n",
            "    dataset unless the purpose of the code is to study and educate about\n",
            "    ethical issues in data science and machine learning.\n",
            "\n",
            "    In this special case, you can fetch the dataset from the original\n",
            "    source::\n",
            "\n",
            "        import pandas as pd\n",
            "        import numpy as np\n",
            "\n",
            "\n",
            "        data_url = \"http://lib.stat.cmu.edu/datasets/boston\"\n",
            "        raw_df = pd.read_csv(data_url, sep=\"\\s+\", skiprows=22, header=None)\n",
            "        data = np.hstack([raw_df.values[::2, :], raw_df.values[1::2, :2]])\n",
            "        target = raw_df.values[1::2, 2]\n",
            "\n",
            "    Alternative datasets include the California housing dataset (i.e.\n",
            "    :func:`~sklearn.datasets.fetch_california_housing`) and the Ames housing\n",
            "    dataset. You can load the datasets as follows::\n",
            "\n",
            "        from sklearn.datasets import fetch_california_housing\n",
            "        housing = fetch_california_housing()\n",
            "\n",
            "    for the California housing dataset and::\n",
            "\n",
            "        from sklearn.datasets import fetch_openml\n",
            "        housing = fetch_openml(name=\"house_prices\", as_frame=True)\n",
            "\n",
            "    for the Ames housing dataset.\n",
            "    \n",
            "  warnings.warn(msg, category=FutureWarning)\n"
          ]
        }
      ]
    },
    {
      "cell_type": "code",
      "source": [
        "print(data.DESCR)"
      ],
      "metadata": {
        "colab": {
          "base_uri": "https://localhost:8080/"
        },
        "id": "YWeVisfJn8ZV",
        "outputId": "5385d6f5-071d-4d74-aed3-954ae169263f"
      },
      "execution_count": null,
      "outputs": [
        {
          "output_type": "stream",
          "name": "stdout",
          "text": [
            ".. _boston_dataset:\n",
            "\n",
            "Boston house prices dataset\n",
            "---------------------------\n",
            "\n",
            "**Data Set Characteristics:**  \n",
            "\n",
            "    :Number of Instances: 506 \n",
            "\n",
            "    :Number of Attributes: 13 numeric/categorical predictive. Median Value (attribute 14) is usually the target.\n",
            "\n",
            "    :Attribute Information (in order):\n",
            "        - CRIM     per capita crime rate by town\n",
            "        - ZN       proportion of residential land zoned for lots over 25,000 sq.ft.\n",
            "        - INDUS    proportion of non-retail business acres per town\n",
            "        - CHAS     Charles River dummy variable (= 1 if tract bounds river; 0 otherwise)\n",
            "        - NOX      nitric oxides concentration (parts per 10 million)\n",
            "        - RM       average number of rooms per dwelling\n",
            "        - AGE      proportion of owner-occupied units built prior to 1940\n",
            "        - DIS      weighted distances to five Boston employment centres\n",
            "        - RAD      index of accessibility to radial highways\n",
            "        - TAX      full-value property-tax rate per $10,000\n",
            "        - PTRATIO  pupil-teacher ratio by town\n",
            "        - B        1000(Bk - 0.63)^2 where Bk is the proportion of black people by town\n",
            "        - LSTAT    % lower status of the population\n",
            "        - MEDV     Median value of owner-occupied homes in $1000's\n",
            "\n",
            "    :Missing Attribute Values: None\n",
            "\n",
            "    :Creator: Harrison, D. and Rubinfeld, D.L.\n",
            "\n",
            "This is a copy of UCI ML housing dataset.\n",
            "https://archive.ics.uci.edu/ml/machine-learning-databases/housing/\n",
            "\n",
            "\n",
            "This dataset was taken from the StatLib library which is maintained at Carnegie Mellon University.\n",
            "\n",
            "The Boston house-price data of Harrison, D. and Rubinfeld, D.L. 'Hedonic\n",
            "prices and the demand for clean air', J. Environ. Economics & Management,\n",
            "vol.5, 81-102, 1978.   Used in Belsley, Kuh & Welsch, 'Regression diagnostics\n",
            "...', Wiley, 1980.   N.B. Various transformations are used in the table on\n",
            "pages 244-261 of the latter.\n",
            "\n",
            "The Boston house-price data has been used in many machine learning papers that address regression\n",
            "problems.   \n",
            "     \n",
            ".. topic:: References\n",
            "\n",
            "   - Belsley, Kuh & Welsch, 'Regression diagnostics: Identifying Influential Data and Sources of Collinearity', Wiley, 1980. 244-261.\n",
            "   - Quinlan,R. (1993). Combining Instance-Based and Model-Based Learning. In Proceedings on the Tenth International Conference of Machine Learning, 236-243, University of Massachusetts, Amherst. Morgan Kaufmann.\n",
            "\n"
          ]
        }
      ]
    },
    {
      "cell_type": "code",
      "source": [
        "from pandas_profiling import ProfileReport"
      ],
      "metadata": {
        "id": "KD25qsTTqtao"
      },
      "execution_count": null,
      "outputs": []
    },
    {
      "cell_type": "code",
      "source": [
        "df = load_boston()"
      ],
      "metadata": {
        "colab": {
          "base_uri": "https://localhost:8080/"
        },
        "id": "7EbTsir5rkNo",
        "outputId": "b8f036e7-0328-4635-9e65-e51d13d8ba6b"
      },
      "execution_count": null,
      "outputs": [
        {
          "output_type": "stream",
          "name": "stderr",
          "text": [
            "/usr/local/lib/python3.7/dist-packages/sklearn/utils/deprecation.py:87: FutureWarning: Function load_boston is deprecated; `load_boston` is deprecated in 1.0 and will be removed in 1.2.\n",
            "\n",
            "    The Boston housing prices dataset has an ethical problem. You can refer to\n",
            "    the documentation of this function for further details.\n",
            "\n",
            "    The scikit-learn maintainers therefore strongly discourage the use of this\n",
            "    dataset unless the purpose of the code is to study and educate about\n",
            "    ethical issues in data science and machine learning.\n",
            "\n",
            "    In this special case, you can fetch the dataset from the original\n",
            "    source::\n",
            "\n",
            "        import pandas as pd\n",
            "        import numpy as np\n",
            "\n",
            "\n",
            "        data_url = \"http://lib.stat.cmu.edu/datasets/boston\"\n",
            "        raw_df = pd.read_csv(data_url, sep=\"\\s+\", skiprows=22, header=None)\n",
            "        data = np.hstack([raw_df.values[::2, :], raw_df.values[1::2, :2]])\n",
            "        target = raw_df.values[1::2, 2]\n",
            "\n",
            "    Alternative datasets include the California housing dataset (i.e.\n",
            "    :func:`~sklearn.datasets.fetch_california_housing`) and the Ames housing\n",
            "    dataset. You can load the datasets as follows::\n",
            "\n",
            "        from sklearn.datasets import fetch_california_housing\n",
            "        housing = fetch_california_housing()\n",
            "\n",
            "    for the California housing dataset and::\n",
            "\n",
            "        from sklearn.datasets import fetch_openml\n",
            "        housing = fetch_openml(name=\"house_prices\", as_frame=True)\n",
            "\n",
            "    for the Ames housing dataset.\n",
            "    \n",
            "  warnings.warn(msg, category=FutureWarning)\n"
          ]
        }
      ]
    },
    {
      "cell_type": "code",
      "source": [
        "df"
      ],
      "metadata": {
        "colab": {
          "base_uri": "https://localhost:8080/"
        },
        "id": "7XpirNvarqp-",
        "outputId": "b987781c-e2d2-4265-d0a0-158f9c7567ed"
      },
      "execution_count": null,
      "outputs": [
        {
          "output_type": "execute_result",
          "data": {
            "text/plain": [
              "{'DESCR': \".. _boston_dataset:\\n\\nBoston house prices dataset\\n---------------------------\\n\\n**Data Set Characteristics:**  \\n\\n    :Number of Instances: 506 \\n\\n    :Number of Attributes: 13 numeric/categorical predictive. Median Value (attribute 14) is usually the target.\\n\\n    :Attribute Information (in order):\\n        - CRIM     per capita crime rate by town\\n        - ZN       proportion of residential land zoned for lots over 25,000 sq.ft.\\n        - INDUS    proportion of non-retail business acres per town\\n        - CHAS     Charles River dummy variable (= 1 if tract bounds river; 0 otherwise)\\n        - NOX      nitric oxides concentration (parts per 10 million)\\n        - RM       average number of rooms per dwelling\\n        - AGE      proportion of owner-occupied units built prior to 1940\\n        - DIS      weighted distances to five Boston employment centres\\n        - RAD      index of accessibility to radial highways\\n        - TAX      full-value property-tax rate per $10,000\\n        - PTRATIO  pupil-teacher ratio by town\\n        - B        1000(Bk - 0.63)^2 where Bk is the proportion of black people by town\\n        - LSTAT    % lower status of the population\\n        - MEDV     Median value of owner-occupied homes in $1000's\\n\\n    :Missing Attribute Values: None\\n\\n    :Creator: Harrison, D. and Rubinfeld, D.L.\\n\\nThis is a copy of UCI ML housing dataset.\\nhttps://archive.ics.uci.edu/ml/machine-learning-databases/housing/\\n\\n\\nThis dataset was taken from the StatLib library which is maintained at Carnegie Mellon University.\\n\\nThe Boston house-price data of Harrison, D. and Rubinfeld, D.L. 'Hedonic\\nprices and the demand for clean air', J. Environ. Economics & Management,\\nvol.5, 81-102, 1978.   Used in Belsley, Kuh & Welsch, 'Regression diagnostics\\n...', Wiley, 1980.   N.B. Various transformations are used in the table on\\npages 244-261 of the latter.\\n\\nThe Boston house-price data has been used in many machine learning papers that address regression\\nproblems.   \\n     \\n.. topic:: References\\n\\n   - Belsley, Kuh & Welsch, 'Regression diagnostics: Identifying Influential Data and Sources of Collinearity', Wiley, 1980. 244-261.\\n   - Quinlan,R. (1993). Combining Instance-Based and Model-Based Learning. In Proceedings on the Tenth International Conference of Machine Learning, 236-243, University of Massachusetts, Amherst. Morgan Kaufmann.\\n\",\n",
              " 'data': array([[6.3200e-03, 1.8000e+01, 2.3100e+00, ..., 1.5300e+01, 3.9690e+02,\n",
              "         4.9800e+00],\n",
              "        [2.7310e-02, 0.0000e+00, 7.0700e+00, ..., 1.7800e+01, 3.9690e+02,\n",
              "         9.1400e+00],\n",
              "        [2.7290e-02, 0.0000e+00, 7.0700e+00, ..., 1.7800e+01, 3.9283e+02,\n",
              "         4.0300e+00],\n",
              "        ...,\n",
              "        [6.0760e-02, 0.0000e+00, 1.1930e+01, ..., 2.1000e+01, 3.9690e+02,\n",
              "         5.6400e+00],\n",
              "        [1.0959e-01, 0.0000e+00, 1.1930e+01, ..., 2.1000e+01, 3.9345e+02,\n",
              "         6.4800e+00],\n",
              "        [4.7410e-02, 0.0000e+00, 1.1930e+01, ..., 2.1000e+01, 3.9690e+02,\n",
              "         7.8800e+00]]),\n",
              " 'data_module': 'sklearn.datasets.data',\n",
              " 'feature_names': array(['CRIM', 'ZN', 'INDUS', 'CHAS', 'NOX', 'RM', 'AGE', 'DIS', 'RAD',\n",
              "        'TAX', 'PTRATIO', 'B', 'LSTAT'], dtype='<U7'),\n",
              " 'filename': 'boston_house_prices.csv',\n",
              " 'target': array([24. , 21.6, 34.7, 33.4, 36.2, 28.7, 22.9, 27.1, 16.5, 18.9, 15. ,\n",
              "        18.9, 21.7, 20.4, 18.2, 19.9, 23.1, 17.5, 20.2, 18.2, 13.6, 19.6,\n",
              "        15.2, 14.5, 15.6, 13.9, 16.6, 14.8, 18.4, 21. , 12.7, 14.5, 13.2,\n",
              "        13.1, 13.5, 18.9, 20. , 21. , 24.7, 30.8, 34.9, 26.6, 25.3, 24.7,\n",
              "        21.2, 19.3, 20. , 16.6, 14.4, 19.4, 19.7, 20.5, 25. , 23.4, 18.9,\n",
              "        35.4, 24.7, 31.6, 23.3, 19.6, 18.7, 16. , 22.2, 25. , 33. , 23.5,\n",
              "        19.4, 22. , 17.4, 20.9, 24.2, 21.7, 22.8, 23.4, 24.1, 21.4, 20. ,\n",
              "        20.8, 21.2, 20.3, 28. , 23.9, 24.8, 22.9, 23.9, 26.6, 22.5, 22.2,\n",
              "        23.6, 28.7, 22.6, 22. , 22.9, 25. , 20.6, 28.4, 21.4, 38.7, 43.8,\n",
              "        33.2, 27.5, 26.5, 18.6, 19.3, 20.1, 19.5, 19.5, 20.4, 19.8, 19.4,\n",
              "        21.7, 22.8, 18.8, 18.7, 18.5, 18.3, 21.2, 19.2, 20.4, 19.3, 22. ,\n",
              "        20.3, 20.5, 17.3, 18.8, 21.4, 15.7, 16.2, 18. , 14.3, 19.2, 19.6,\n",
              "        23. , 18.4, 15.6, 18.1, 17.4, 17.1, 13.3, 17.8, 14. , 14.4, 13.4,\n",
              "        15.6, 11.8, 13.8, 15.6, 14.6, 17.8, 15.4, 21.5, 19.6, 15.3, 19.4,\n",
              "        17. , 15.6, 13.1, 41.3, 24.3, 23.3, 27. , 50. , 50. , 50. , 22.7,\n",
              "        25. , 50. , 23.8, 23.8, 22.3, 17.4, 19.1, 23.1, 23.6, 22.6, 29.4,\n",
              "        23.2, 24.6, 29.9, 37.2, 39.8, 36.2, 37.9, 32.5, 26.4, 29.6, 50. ,\n",
              "        32. , 29.8, 34.9, 37. , 30.5, 36.4, 31.1, 29.1, 50. , 33.3, 30.3,\n",
              "        34.6, 34.9, 32.9, 24.1, 42.3, 48.5, 50. , 22.6, 24.4, 22.5, 24.4,\n",
              "        20. , 21.7, 19.3, 22.4, 28.1, 23.7, 25. , 23.3, 28.7, 21.5, 23. ,\n",
              "        26.7, 21.7, 27.5, 30.1, 44.8, 50. , 37.6, 31.6, 46.7, 31.5, 24.3,\n",
              "        31.7, 41.7, 48.3, 29. , 24. , 25.1, 31.5, 23.7, 23.3, 22. , 20.1,\n",
              "        22.2, 23.7, 17.6, 18.5, 24.3, 20.5, 24.5, 26.2, 24.4, 24.8, 29.6,\n",
              "        42.8, 21.9, 20.9, 44. , 50. , 36. , 30.1, 33.8, 43.1, 48.8, 31. ,\n",
              "        36.5, 22.8, 30.7, 50. , 43.5, 20.7, 21.1, 25.2, 24.4, 35.2, 32.4,\n",
              "        32. , 33.2, 33.1, 29.1, 35.1, 45.4, 35.4, 46. , 50. , 32.2, 22. ,\n",
              "        20.1, 23.2, 22.3, 24.8, 28.5, 37.3, 27.9, 23.9, 21.7, 28.6, 27.1,\n",
              "        20.3, 22.5, 29. , 24.8, 22. , 26.4, 33.1, 36.1, 28.4, 33.4, 28.2,\n",
              "        22.8, 20.3, 16.1, 22.1, 19.4, 21.6, 23.8, 16.2, 17.8, 19.8, 23.1,\n",
              "        21. , 23.8, 23.1, 20.4, 18.5, 25. , 24.6, 23. , 22.2, 19.3, 22.6,\n",
              "        19.8, 17.1, 19.4, 22.2, 20.7, 21.1, 19.5, 18.5, 20.6, 19. , 18.7,\n",
              "        32.7, 16.5, 23.9, 31.2, 17.5, 17.2, 23.1, 24.5, 26.6, 22.9, 24.1,\n",
              "        18.6, 30.1, 18.2, 20.6, 17.8, 21.7, 22.7, 22.6, 25. , 19.9, 20.8,\n",
              "        16.8, 21.9, 27.5, 21.9, 23.1, 50. , 50. , 50. , 50. , 50. , 13.8,\n",
              "        13.8, 15. , 13.9, 13.3, 13.1, 10.2, 10.4, 10.9, 11.3, 12.3,  8.8,\n",
              "         7.2, 10.5,  7.4, 10.2, 11.5, 15.1, 23.2,  9.7, 13.8, 12.7, 13.1,\n",
              "        12.5,  8.5,  5. ,  6.3,  5.6,  7.2, 12.1,  8.3,  8.5,  5. , 11.9,\n",
              "        27.9, 17.2, 27.5, 15. , 17.2, 17.9, 16.3,  7. ,  7.2,  7.5, 10.4,\n",
              "         8.8,  8.4, 16.7, 14.2, 20.8, 13.4, 11.7,  8.3, 10.2, 10.9, 11. ,\n",
              "         9.5, 14.5, 14.1, 16.1, 14.3, 11.7, 13.4,  9.6,  8.7,  8.4, 12.8,\n",
              "        10.5, 17.1, 18.4, 15.4, 10.8, 11.8, 14.9, 12.6, 14.1, 13. , 13.4,\n",
              "        15.2, 16.1, 17.8, 14.9, 14.1, 12.7, 13.5, 14.9, 20. , 16.4, 17.7,\n",
              "        19.5, 20.2, 21.4, 19.9, 19. , 19.1, 19.1, 20.1, 19.9, 19.6, 23.2,\n",
              "        29.8, 13.8, 13.3, 16.7, 12. , 14.6, 21.4, 23. , 23.7, 25. , 21.8,\n",
              "        20.6, 21.2, 19.1, 20.6, 15.2,  7. ,  8.1, 13.6, 20.1, 21.8, 24.5,\n",
              "        23.1, 19.7, 18.3, 21.2, 17.5, 16.8, 22.4, 20.6, 23.9, 22. , 11.9])}"
            ]
          },
          "metadata": {},
          "execution_count": 15
        }
      ]
    },
    {
      "cell_type": "code",
      "source": [
        "%matplotlib inline"
      ],
      "metadata": {
        "id": "2t5AGqtcrbAJ"
      },
      "execution_count": null,
      "outputs": []
    },
    {
      "cell_type": "code",
      "source": [
        "from google.colab import drive\n",
        "drive.mount('/content/drive')"
      ],
      "metadata": {
        "id": "uJwYctq6vvOm",
        "colab": {
          "base_uri": "https://localhost:8080/"
        },
        "outputId": "b7b47a21-e146-4de7-aa26-8479fa4f96c5"
      },
      "execution_count": null,
      "outputs": [
        {
          "output_type": "stream",
          "name": "stdout",
          "text": [
            "Mounted at /content/drive\n"
          ]
        }
      ]
    },
    {
      "cell_type": "code",
      "source": [
        "housing = pd.read_csv('/content/gdrive/MyDrive/dataset/housing.csv')"
      ],
      "metadata": {
        "id": "lvv1rgYVvmcv"
      },
      "execution_count": null,
      "outputs": []
    },
    {
      "cell_type": "code",
      "source": [
        "housing.head()"
      ],
      "metadata": {
        "id": "jHItsWWZv3f1"
      },
      "execution_count": null,
      "outputs": []
    },
    {
      "cell_type": "code",
      "source": [
        "housing.shape #대략적인 데이터 파악하기\n",
        "#데이터가 506건, 변수가 14개인데 선형회귀의 관점에서는 예측할 변수(출력)는 하나, 예측을 설명해주는\n",
        "#변수(입력)는 최대 13개가 나올 수 있다"
      ],
      "metadata": {
        "id": "pe_TArBYv85q"
      },
      "execution_count": null,
      "outputs": []
    },
    {
      "cell_type": "code",
      "source": [
        "housing.tail()"
      ],
      "metadata": {
        "id": "0U87ka7Zyb20"
      },
      "execution_count": null,
      "outputs": []
    },
    {
      "cell_type": "code",
      "source": [
        "housing.info()"
      ],
      "metadata": {
        "id": "r927ZVGoywwZ"
      },
      "execution_count": null,
      "outputs": []
    },
    {
      "cell_type": "code",
      "source": [
        "#결측치 파악하기\n",
        "housing.isnull().sum() #결측치가 없음 #왜냐, 계산할 때 False는 0이고 True는 1로 취급하기 떄문."
      ],
      "metadata": {
        "id": "A9MVbuDcyywH"
      },
      "execution_count": null,
      "outputs": []
    },
    {
      "cell_type": "code",
      "source": [
        "housing['CHAS'].unique() #고유값을 확인하여 잘못된 것이 없는지 확인한다"
      ],
      "metadata": {
        "id": "Fn_2az5uzmeJ"
      },
      "execution_count": null,
      "outputs": []
    },
    {
      "cell_type": "code",
      "source": [
        "#CHAS(찰스강 인근에 있는 집의 더미변수 0과 1로 이뤄졌음으로 범주형 변수이다)\n",
        "housing['CHAS'].value_counts() #이 경우 데이터가 편중되었기에 위치가 강변인가 아닌가를 예측하는 모델을\n",
        "#만들기가 어렵다"
      ],
      "metadata": {
        "id": "q0LJSp-uzNJG"
      },
      "execution_count": null,
      "outputs": []
    },
    {
      "cell_type": "code",
      "source": [
        "#RAD의 고유값 확인 : 클수록 방사형 도로에 대한 접근성이 좋다\n",
        "housing['RAD'].unique() #중간에 빈 값이 많다"
      ],
      "metadata": {
        "id": "6hTDUTBjzpZh"
      },
      "execution_count": null,
      "outputs": []
    },
    {
      "cell_type": "code",
      "source": [
        "housing['RAD'].value_counts() #24의 값을 많이 지녔고(도로 부근의 근처) 이외에는 5~4가 대다수를 차지하고 있다(멀리 떨어짐)"
      ],
      "metadata": {
        "id": "X3FLx3kM0LKq"
      },
      "execution_count": null,
      "outputs": []
    },
    {
      "cell_type": "code",
      "source": [
        "housing['CHAS'].value_counts(normalize = True) * 100 #퍼센트로 변환해주는normalize 함수"
      ],
      "metadata": {
        "id": "GBrtGB_O0RJa"
      },
      "execution_count": null,
      "outputs": []
    },
    {
      "cell_type": "code",
      "source": [
        "housing['RAD'].value_counts(normalize = True) * 100"
      ],
      "metadata": {
        "id": "lIg4vsZU1G1w"
      },
      "execution_count": null,
      "outputs": []
    },
    {
      "cell_type": "markdown",
      "source": [
        "그럼 강변이면 집값이 비쌀까?"
      ],
      "metadata": {
        "id": "EXHGioAE2MSz"
      }
    },
    {
      "cell_type": "code",
      "source": [
        "housing.groupby('CHAS')['MEDV'].mean() #강변이면 집값이 살짝 비싸다"
      ],
      "metadata": {
        "id": "A8vcc2dn2Atz"
      },
      "execution_count": null,
      "outputs": []
    },
    {
      "cell_type": "markdown",
      "source": [
        "강변과 범죄율의 관계는?"
      ],
      "metadata": {
        "id": "TIw4j0-T2tJz"
      }
    },
    {
      "cell_type": "code",
      "source": [
        "housing.groupby('CHAS')['CRIM'].mean() #강변이면 범죄율도 적다 -> 인구가 적어서 그런걸까?"
      ],
      "metadata": {
        "id": "pLUFIkit2W-M"
      },
      "execution_count": null,
      "outputs": []
    },
    {
      "cell_type": "code",
      "source": [
        "housing.groupby('CHAS')['AGE'].mean() #강변 근처에 오래된 집이 많다"
      ],
      "metadata": {
        "id": "rev-Zb8P21UO"
      },
      "execution_count": null,
      "outputs": []
    },
    {
      "cell_type": "markdown",
      "source": [
        "도로 근처와 집값의 관계는?"
      ],
      "metadata": {
        "id": "hTXbngJT3sCV"
      }
    },
    {
      "cell_type": "code",
      "source": [
        "housing.groupby('RAD')['MEDV'].mean() #도로 근처에 싼집이 몰려있다(중간지역이 없음)"
      ],
      "metadata": {
        "id": "PsSm34-13I5W"
      },
      "execution_count": null,
      "outputs": []
    },
    {
      "cell_type": "markdown",
      "source": [
        "EDA로 데이터를 파악할 때는 시각화로 파악하는 것이 유용하다"
      ],
      "metadata": {
        "id": "f6f3gbb14ASg"
      }
    },
    {
      "cell_type": "code",
      "source": [
        "import seaborn as sns"
      ],
      "metadata": {
        "id": "AnMSW-CJ3yeF"
      },
      "execution_count": null,
      "outputs": []
    },
    {
      "cell_type": "code",
      "source": [
        "sns.countplot(housing['CHAS'])"
      ],
      "metadata": {
        "id": "9euz-J8f4Fr3"
      },
      "execution_count": null,
      "outputs": []
    },
    {
      "cell_type": "code",
      "source": [
        "sns.countplot(housing['RAD'])"
      ],
      "metadata": {
        "id": "In0j1s9W4KAb"
      },
      "execution_count": null,
      "outputs": []
    },
    {
      "cell_type": "code",
      "source": [
        ""
      ],
      "metadata": {
        "id": "SJ8wm_SN4bCg"
      },
      "execution_count": null,
      "outputs": []
    },
    {
      "cell_type": "markdown",
      "source": [
        " 하지만 countplot을 사용할 때는 주의하여야 한다. 지금 이 데이터는 8과 24사이가 비어 있다\n",
        "\n",
        " 세부적으로 알고 싶은 경우? histplot을 활용하자"
      ],
      "metadata": {
        "id": "IRT9rxu84oiq"
      }
    },
    {
      "cell_type": "code",
      "source": [
        "sns.histplot(housing['RAD'])"
      ],
      "metadata": {
        "id": "Hk0cl0vm4yv7"
      },
      "execution_count": null,
      "outputs": []
    },
    {
      "cell_type": "markdown",
      "source": [
        "0~24까지 총 24의 거리로 이뤄졌음으로 25간격으로\n",
        "\n",
        "나눌 수 있는 bins함수를 활용하여 세부적으로\n",
        "\n",
        "파악한다"
      ],
      "metadata": {
        "id": "qv15TVM_5JDs"
      }
    },
    {
      "cell_type": "code",
      "source": [
        "sns.histplot(housing['RAD'], bins = 25)"
      ],
      "metadata": {
        "id": "ud59y3y74_Hy"
      },
      "execution_count": null,
      "outputs": []
    },
    {
      "cell_type": "markdown",
      "source": [
        "오래 전 지어진 집의 분포는?"
      ],
      "metadata": {
        "id": "of7kLKac5bMf"
      }
    },
    {
      "cell_type": "code",
      "source": [
        "sns.histplot(housing['AGE'])"
      ],
      "metadata": {
        "id": "fmUHV6Jf5Gez"
      },
      "execution_count": null,
      "outputs": []
    },
    {
      "cell_type": "code",
      "source": [
        "sns.histplot(data = housing, x = 'AGE', hue = 'CHAS', multiple ='stack')"
      ],
      "metadata": {
        "id": "bVZHit0y5fvg"
      },
      "execution_count": null,
      "outputs": []
    },
    {
      "cell_type": "markdown",
      "source": [
        "강변에는 오래된 집들의 비율이 낮은 곳이 적음"
      ],
      "metadata": {
        "id": "iZ9oV57c6cxV"
      }
    },
    {
      "cell_type": "code",
      "source": [
        "sns.histplot(data = housing, x = 'MEDV', hue = 'CHAS')"
      ],
      "metadata": {
        "id": "q86m7BD158Ib"
      },
      "execution_count": null,
      "outputs": []
    },
    {
      "cell_type": "markdown",
      "source": [
        "강변에 엄청 싼집은 없는데 제일 비싼집의 절반은 강변에 있네?"
      ],
      "metadata": {
        "id": "jJH2JqGU7QdL"
      }
    },
    {
      "cell_type": "code",
      "source": [
        "sns.histplot(data = housing, x = 'DIS')"
      ],
      "metadata": {
        "id": "8dXcTCUL7H1P"
      },
      "execution_count": null,
      "outputs": []
    },
    {
      "cell_type": "markdown",
      "source": [
        "직장과 가까운 곳에 집이 많은데, 너무 가까우면 오히려 줄어들고 살짝 떨어진 곳이 많네"
      ],
      "metadata": {
        "id": "CnPqNlr07nsD"
      }
    },
    {
      "cell_type": "code",
      "source": [
        "sns.histplot(data = housing, x = 'DIS', hue = 'CHAS')"
      ],
      "metadata": {
        "id": "i3C21mrj7ksC"
      },
      "execution_count": null,
      "outputs": []
    },
    {
      "cell_type": "markdown",
      "source": [
        "강변에 있는 집이 직장과의 거리도 가깝네\n",
        "\n",
        "강에서 먼 곳은 회사가 없구나?"
      ],
      "metadata": {
        "id": "_n9RfAxH79sG"
      }
    },
    {
      "cell_type": "markdown",
      "source": [
        "## EDA에 대한 정리\n",
        "\n",
        "데이터에 대한 사색을 하자\n",
        "\n",
        "변수 각각의 통계치 탐색 및 분포를 시각화하고\n",
        "\n",
        "범주형 변수를 기준으로 groupby, hue등을 통해 \n",
        "\n",
        "수치형 변수들의 통계치를 관찰해보자\n",
        "\n",
        "수치형 변수들의 분포를 시각화를 통해 인사이트를 도출해내는 작업도 필요하다\n",
        "\n",
        "이후 수치형 변수들 사이의 관계를 궁금해하자\n",
        "\n",
        "\n"
      ],
      "metadata": {
        "id": "7NuMXIB18kDf"
      }
    },
    {
      "cell_type": "markdown",
      "source": [
        "##선형회귀분석\n",
        "\n",
        "피어슨 상관계수를 활용하여 양, 음의 상관관계를 파악한다"
      ],
      "metadata": {
        "id": "lEjr09uMuZ3-"
      }
    },
    {
      "cell_type": "code",
      "source": [
        "%matplotlib inline"
      ],
      "metadata": {
        "id": "BhSLr8ky78FD"
      },
      "execution_count": null,
      "outputs": []
    },
    {
      "cell_type": "markdown",
      "source": [
        "데이터 파악 - 두 변수간의 상관관계를 탐색하는 scatterplot"
      ],
      "metadata": {
        "id": "DSXndnqcs7ba"
      }
    },
    {
      "cell_type": "code",
      "source": [
        "#직업센터까지의 거리가 멀어질수록 지어진 지 오래된 집이 적다\n",
        "sns.scatterplot(x = 'DIS', y = 'AGE', data = housing)"
      ],
      "metadata": {
        "colab": {
          "base_uri": "https://localhost:8080/",
          "height": 298
        },
        "id": "3w_SLouks4rP",
        "outputId": "6bc2bf5a-6ec2-4159-d162-ca433b2430ba"
      },
      "execution_count": null,
      "outputs": [
        {
          "output_type": "execute_result",
          "data": {
            "text/plain": [
              "<matplotlib.axes._subplots.AxesSubplot at 0x7f1b1ac86a90>"
            ]
          },
          "metadata": {},
          "execution_count": 7
        },
        {
          "output_type": "display_data",
          "data": {
            "image/png": "[encoded data removed]",
            "text/plain": [
              "<Figure size 432x288 with 1 Axes>"
            ]
          },
          "metadata": {
            "needs_background": "light"
          }
        }
      ]
    },
    {
      "cell_type": "markdown",
      "source": [
        "-> 근래 회사가 새로 생기면서 회사와 가까운 곳에 집을 많이 지었다"
      ],
      "metadata": {
        "id": "jiUvVvgTtK2K"
      }
    },
    {
      "cell_type": "code",
      "source": [
        "#직업센터까지의 거리가 멀어질수록 대기 중 일산화질소 농도가 낮다\n",
        "sns.scatterplot(data = housing, x = 'DIS', y = 'NOX')"
      ],
      "metadata": {
        "id": "EL53LnBltI7m"
      },
      "execution_count": null,
      "outputs": []
    },
    {
      "cell_type": "markdown",
      "source": [
        "-> 당시 보스턴은 공업화로 인해 성장하여 사무직보다 생산직 노동자가 더 많았다"
      ],
      "metadata": {
        "id": "_mxednxqtjDO"
      }
    },
    {
      "cell_type": "code",
      "source": [
        "#직업센터까지의 거리가 멀어질수록 상업지 비율이 낮아진다\n",
        "sns.scatterplot(data = housing, x = 'DIS', y = 'INDUS')"
      ],
      "metadata": {
        "id": "rw-US4JPthhJ"
      },
      "execution_count": null,
      "outputs": []
    },
    {
      "cell_type": "markdown",
      "source": [
        "-> 가게들은 회사와 가까운 곳에 몰려 있다 - 보스턴은 동네가 아닌 도시다"
      ],
      "metadata": {
        "id": "y2LF5Matt5rb"
      }
    },
    {
      "cell_type": "code",
      "source": [
        "#방의 개수가 많은 집일수록 가격이 비싸다(양의 상관관계)\n",
        "sns.scatterplot(data = housing, x = 'RM', y = 'MEDV')"
      ],
      "metadata": {
        "id": "hPmXKGkit4JN"
      },
      "execution_count": null,
      "outputs": []
    },
    {
      "cell_type": "code",
      "source": [
        "#근처에 저소득층이 많은 집일수록 가격이 싸다(음의 상관관계)\n",
        "sns.scatterplot(x = 'LSTAT', y = 'MEDV', data = housing)"
      ],
      "metadata": {
        "id": "Jm5jOaV6uTvO"
      },
      "execution_count": null,
      "outputs": []
    },
    {
      "cell_type": "markdown",
      "source": [
        "이와같이 그림으로 대략적인 상관관계를 파악하였다면, 두 변수 간 상관관계를 정량화 시켜야 한다\n",
        "\n",
        "(변수간 피어슨 상관계수.corr(method = 'pearson')"
      ],
      "metadata": {
        "id": "IVk_bSppu728"
      }
    },
    {
      "cell_type": "code",
      "source": [
        "housing[['RM', 'MEDV']].corr(method = 'pearson')"
      ],
      "metadata": {
        "id": "FoQldq3Luq8K"
      },
      "execution_count": null,
      "outputs": []
    },
    {
      "cell_type": "markdown",
      "source": [
        "방의 개수와 집값 사이에는 강한 양의 상관관계가 나타나는 것을 알 수 있다"
      ],
      "metadata": {
        "id": "0TLwktfzvOU-"
      }
    },
    {
      "cell_type": "code",
      "source": [
        "housing[['LSTAT', 'MEDV']].corr(method = 'pearson')"
      ],
      "metadata": {
        "id": "0G6N0I1RvMcf"
      },
      "execution_count": null,
      "outputs": []
    },
    {
      "cell_type": "markdown",
      "source": [
        "저소득층 비율과 집값 사이에는 강한 음의 상관관계가 나타나는 것을 알 수 있다"
      ],
      "metadata": {
        "id": "Tg47XKdYvXYs"
      }
    },
    {
      "cell_type": "code",
      "source": [
        "#모든 변수간의 상관관계 정량화\n",
        "corr = housing.corr(method = 'pearson')\n",
        "corr"
      ],
      "metadata": {
        "id": "qxLiNeclvWDV"
      },
      "execution_count": null,
      "outputs": []
    },
    {
      "cell_type": "markdown",
      "source": [
        "이렇게 한번에 출력할 수 있지만, 이렇게 할 경우 한 눈에 보기 힘들다\n",
        "\n",
        "분석을 할 때는 변수의 선택과 집중을 통해 자신의 가설을 가지고 접근하도록 하자"
      ],
      "metadata": {
        "id": "6IXCM-6Rw_Wp"
      }
    },
    {
      "cell_type": "code",
      "source": [
        "#숫자로 보면 한눈에 보는게 어렵지만, heatmap을 통해서는 비교적 보기가 쉬워진다\n",
        "plt.figure(figsize = (10, 8))\n",
        "sns.heatmap(housing.corr().round(2), annot = True) #annot은 숫자도 그래프에 표시해주는 것\n",
        "plt.tight_layout() #레이아웃 맞추기"
      ],
      "metadata": {
        "id": "PWil3FjJw6FK"
      },
      "execution_count": null,
      "outputs": []
    },
    {
      "cell_type": "markdown",
      "source": [
        "히트맵을 해석하는 방법:\n",
        "\n",
        "Y축의 '기준을 잡고 X축의 변수를 확인, 상자의 색깔과 숫자 파악"
      ],
      "metadata": {
        "id": "PZKJGmGzyIMW"
      }
    },
    {
      "cell_type": "markdown",
      "source": [
        "단순 회귀분석 : y=ax+b와 같이 독립변수에 따른 종속변수의 변화식을 확인하여 값을 예측할 때 사용한다\n",
        "\n",
        "머신러닝은 이러한 예측에 있어서 Train과 Test데이터를 활용하여 값을 도출해 내는데 필요한 자료를 학습하는 과정을 의미한다(주로 7:3 이나 8:2 정도로 나눔)"
      ],
      "metadata": {
        "id": "Qh76SgECztfv"
      }
    },
    {
      "cell_type": "code",
      "source": [
        "from sklearn.linear_model import LinearRegression\n",
        "from sklearn.model_selection import train_test_split\n",
        "\n",
        "import warnings\n",
        "warnings.filterwarnings('ignore')"
      ],
      "metadata": {
        "id": "mmvHAO1Pxl-L"
      },
      "execution_count": null,
      "outputs": []
    },
    {
      "cell_type": "markdown",
      "source": [
        "선형회귀 모델은 적용하려면 전제 조건이 있다\n",
        "\n",
        "(1) 변수간 선형관계가 확인되어야 한다(scatterplot,regplot)"
      ],
      "metadata": {
        "id": "v4MqqPg_0aJp"
      }
    },
    {
      "cell_type": "code",
      "source": [
        "sns.regplot(x = 'RM', y = 'MEDV', data = housing, fit_reg = True)\n",
        "#옅은 범위는 오차범위라고 한다"
      ],
      "metadata": {
        "colab": {
          "base_uri": "https://localhost:8080/",
          "height": 298
        },
        "id": "TfqhGh1d0Rv_",
        "outputId": "584ad024-bc3e-4cf0-cbaf-1626824a306e"
      },
      "execution_count": null,
      "outputs": [
        {
          "output_type": "execute_result",
          "data": {
            "text/plain": [
              "<matplotlib.axes._subplots.AxesSubplot at 0x7f1b1a29f7d0>"
            ]
          },
          "metadata": {},
          "execution_count": 8
        },
        {
          "output_type": "display_data",
          "data": {
            "image/png": "[encoded data removed]",
            "text/plain": [
              "<Figure size 432x288 with 1 Axes>"
            ]
          },
          "metadata": {
            "needs_background": "light"
          }
        }
      ]
    },
    {
      "cell_type": "code",
      "source": [
        "sns.regplot(data = housing, x = 'LSTAT', y = 'MEDV')"
      ],
      "metadata": {
        "colab": {
          "base_uri": "https://localhost:8080/",
          "height": 298
        },
        "id": "7V7Zxbvo0mmN",
        "outputId": "9e3d6f58-c193-4723-a93f-a89a4c992259"
      },
      "execution_count": null,
      "outputs": [
        {
          "output_type": "execute_result",
          "data": {
            "text/plain": [
              "<matplotlib.axes._subplots.AxesSubplot at 0x7f1b19d81390>"
            ]
          },
          "metadata": {},
          "execution_count": 9
        },
        {
          "output_type": "display_data",
          "data": {
            "image/png": "[encoded data removed]",
            "text/plain": [
              "<Figure size 432x288 with 1 Axes>"
            ]
          },
          "metadata": {
            "needs_background": "light"
          }
        }
      ]
    },
    {
      "cell_type": "markdown",
      "source": [
        "(2) 피처 데이터(입력값)가 정규분포를 이뤄야한다"
      ],
      "metadata": {
        "id": "0g-W42XT08Mj"
      }
    },
    {
      "cell_type": "code",
      "source": [
        "#피처1(입력값) : 방의 개수\n",
        "sns.distplot(housing['RM'], bins = 30)\n",
        "#이정도는 정규분포에 해당한다고 볼 수 있다"
      ],
      "metadata": {
        "id": "CFLxUHpE0224"
      },
      "execution_count": null,
      "outputs": []
    },
    {
      "cell_type": "code",
      "source": [
        "#피처2(입력값) : 저소득층 비율\n",
        "sns.distplot(housing['LSTAT'], bins = 30)\n",
        "#해당 케이스는 왜도가 + 값을 지닌 치우쳐진 분포를 지니고 있다 -> 이 경우 수치에 조정을 취한다던가\n",
        "#포아송 분포 등을 활용하면서 이럴 때를 위한 다른 원리들이 존재한다"
      ],
      "metadata": {
        "id": "5MS_9Yxu1JAG"
      },
      "execution_count": null,
      "outputs": []
    },
    {
      "cell_type": "code",
      "source": [
        "#타깃(출력값) : 주택의가격 -> 이정도는 나쁘지 않다\n",
        "sns.distplot(housing['MEDV'], bins = 30)\n",
        "#강변 근처, 즉 50쪽에 이상치가 존재하여 이를 따로 떼서분석해보거나 제거하는 등 판단을\n",
        "#개인적으로 해볼 수 있다"
      ],
      "metadata": {
        "id": "zt-4bxQV1atE"
      },
      "execution_count": null,
      "outputs": []
    },
    {
      "cell_type": "markdown",
      "source": [
        "#1. 단순 선형회귀:\n",
        "\n",
        "주택가격(MEDV)을 방의 개수(RM)로 예측"
      ],
      "metadata": {
        "id": "1_DjcRhD19uK"
      }
    },
    {
      "cell_type": "markdown",
      "source": [
        "1. 모델을 호출"
      ],
      "metadata": {
        "id": "mzspCBd-2KEC"
      }
    },
    {
      "cell_type": "code",
      "source": [
        "from sklearn.linear_model import LinearRegression\n",
        "from sklearn.model_selection import train_test_split"
      ],
      "metadata": {
        "id": "CdzS9ChB1s7f"
      },
      "execution_count": null,
      "outputs": []
    },
    {
      "cell_type": "markdown",
      "source": [
        "2. 입력변수, 출력변수 결정\n",
        "\n",
        "방의 개수를 입력하면 예측한 주택 가격 출력"
      ],
      "metadata": {
        "id": "Q3_sgLoL2MAB"
      }
    },
    {
      "cell_type": "code",
      "source": [
        "y_target = housing['MEDV'] #출력값\n",
        "X_data = housing[['RM']] #입력값 : 2차원 배열(array로) 만들기 위해 [[]]를 사용하였다\n",
        "#sklearn이 들어올 거라고 기대하는 데이터의 형식은 array다\n",
        "#즉, 입력 변수가 하나라도 2차원 배열로 선언을 해야 한다(중요)"
      ],
      "metadata": {
        "id": "Lbl7veJt2Q4L"
      },
      "execution_count": null,
      "outputs": []
    },
    {
      "cell_type": "markdown",
      "source": [
        "3. 입력값, 출력값들을 각각 train, test 데이터셋으로 분리: train_test_split()"
      ],
      "metadata": {
        "id": "-4xDMfsE2rb0"
      }
    },
    {
      "cell_type": "code",
      "source": [
        "X_train, X_test, y_train, y_test = train_test_split(X_data, y_target,\n",
        "                                                    test_size = 0.2, random_state = 42)\n",
        "#test_size = 0.2 -> 훈련 0.8, 테스트 0.2로 실행하겠음을 의미\n",
        "#random_state -> 시행시마다 결과 동일하게 (교육용 옵션), 실무에서는 잘 사용하지 않음"
      ],
      "metadata": {
        "id": "8z5g9m3I2z5J"
      },
      "execution_count": null,
      "outputs": []
    },
    {
      "cell_type": "markdown",
      "source": [
        "4. 머신러닝 실행: 모델 선언, 학습 및 최적화: LInearRegression(), fit()"
      ],
      "metadata": {
        "id": "pgls1EAz3uRT"
      }
    },
    {
      "cell_type": "code",
      "source": [
        "model = LinearRegression()\n",
        "model.fit(X_train, y_train)"
      ],
      "metadata": {
        "id": "ITJryilr3rZK"
      },
      "execution_count": null,
      "outputs": []
    },
    {
      "cell_type": "markdown",
      "source": [
        "5. 실제값(y_test)과 머신러닝이 예측한 값(y_test_preds)비교"
      ],
      "metadata": {
        "id": "z3SK0_GN4E-S"
      }
    },
    {
      "cell_type": "code",
      "source": [
        "y_test_preds = model.predict(X_test)\n",
        "df1 = pd.DataFrame({'Actual' : y_test, 'Predicted' : y_test_preds})\n",
        "print(df1.head(10))"
      ],
      "metadata": {
        "id": "EsEGSezG4KUa"
      },
      "execution_count": null,
      "outputs": []
    },
    {
      "cell_type": "code",
      "source": [
        "df1.head().plot(kind = 'bar')"
      ],
      "metadata": {
        "id": "lScYUwz3_9Xk"
      },
      "execution_count": null,
      "outputs": []
    },
    {
      "cell_type": "markdown",
      "source": [
        "6. 단순선형회귀 주택 가격 예측 모델의 성능 평가: .score()"
      ],
      "metadata": {
        "id": "XLHjTHVEAZdi"
      }
    },
    {
      "cell_type": "code",
      "source": [
        "print(model.score(X_train, y_train))\n",
        "print(model.score(X_test, y_test))"
      ],
      "metadata": {
        "id": "xAfSbienAW40"
      },
      "execution_count": null,
      "outputs": []
    },
    {
      "cell_type": "code",
      "source": [
        "print('단순 선형회귀 모형의 설명력 (R2 Score) :')\n",
        "print('이 모형은 학습한 데이터에서 주택가격의 {:.1f}%를 설명한다'.format(model.score(X_train, y_train) * 100))\n",
        "print('이 모형은 테스트 데이터에서 주택가격의 {:.1f}%를 설명한다'.format(model.score(X_test, y_test) * 100))"
      ],
      "metadata": {
        "id": "NLa2srzWAxWx"
      },
      "execution_count": null,
      "outputs": []
    },
    {
      "cell_type": "code",
      "source": [
        "print('단순 선형회귀 모형의 설명력 (R2 Score) :')\n",
        "print('이 모형은 학습한 데이터에서 주택가격의 {:.1f}%를 설명한다'.format(model.score(X_train, y_train) * 100))\n",
        "print('이 모형은 테스트 데이터에서 주택가격의 {:.1f}%를 설명한다'.format(model.score(X_test, y_test) * 100))"
      ],
      "metadata": {
        "id": "FekYEk-wD3un"
      },
      "execution_count": null,
      "outputs": []
    },
    {
      "cell_type": "markdown",
      "source": [
        "방 개수 하나만 가지고도 0.37%만큼 설명을 했다!\n",
        "\n",
        " -> 나머지 63%는 삼라만상"
      ],
      "metadata": {
        "id": "8xdHlHcMBlRB"
      }
    },
    {
      "cell_type": "markdown",
      "source": [
        "##2. 다중선형회귀분석\n",
        "\n",
        "주택 가격(MEDV)을 방의 개수(RM), 저소득층 비율(LSTAT)로 예측"
      ],
      "metadata": {
        "id": "k6TJjsmmBvZ-"
      }
    },
    {
      "cell_type": "markdown",
      "source": [
        "0. 입력변수, 출력변수 결정"
      ],
      "metadata": {
        "id": "cR7euX_ZDGE8"
      }
    },
    {
      "cell_type": "code",
      "source": [
        "y_target = housing['MEDV'] #출력값\n",
        "X_data = housing[['RM', 'LSTAT']] #입력값"
      ],
      "metadata": {
        "id": "S-XY1jRCBN_L"
      },
      "execution_count": null,
      "outputs": []
    },
    {
      "cell_type": "markdown",
      "source": [
        "1. 입력값, 출력값들을 각각 train, test 테스트셋으로 분리"
      ],
      "metadata": {
        "id": "4wKISSUDDPzN"
      }
    },
    {
      "cell_type": "code",
      "source": [
        "X_train, X_test, y_train, y_test = train_test_split(X_data, y_target, test_size = 0.2, random_state = 42)"
      ],
      "metadata": {
        "id": "m4ROJmgAB1_-"
      },
      "execution_count": null,
      "outputs": []
    },
    {
      "cell_type": "markdown",
      "source": [
        "2. 모델 선언(선형회귀)\n",
        "3. 모델 학습"
      ],
      "metadata": {
        "id": "yMxU_IgfDrlK"
      }
    },
    {
      "cell_type": "code",
      "source": [
        "model = LinearRegression()\n",
        "model.fit(X_train, y_train)"
      ],
      "metadata": {
        "id": "Mni4WwP2DqqB"
      },
      "execution_count": null,
      "outputs": []
    },
    {
      "cell_type": "markdown",
      "source": [
        "4. 모델평가"
      ],
      "metadata": {
        "id": "RQ2IVRC4D5uN"
      }
    },
    {
      "cell_type": "code",
      "source": [
        "print('단순 선형회귀 모형의 설명력 (R2 Score) :')\n",
        "print('이 모형은 학습한 데이터에서 주택가격의 {:.1f}%를 설명한다'.format(model.score(X_train, y_train) * 100))\n",
        "print('이 모형은 테스트 데이터에서 주택가격의 {:.1f}%를 설명한다'.format(model.score(X_test, y_test) * 100))\n",
        "#테스트의 결과가 일반적으로 더 낮은 것이 당연하다 -> 학습한 적 없는 데이터이기 때문"
      ],
      "metadata": {
        "id": "cqMgK3rXD44k"
      },
      "execution_count": null,
      "outputs": []
    },
    {
      "cell_type": "markdown",
      "source": [
        "##3. 변수를 3개 넣은 다중 회귀분석\n",
        "\n",
        "주택가격 ~ 방의개수(RM) + 저소득층 비율(LSTAT) + 교사/학생 비율(PTRATIO)"
      ],
      "metadata": {
        "id": "PTwA6ZZmELwB"
      }
    },
    {
      "cell_type": "code",
      "source": [
        "y_target = housing['MEDV'] #출력값\n",
        "X_data = housing[['RM', 'LSTAT', 'PTRATIO']] #입력값\n",
        "\n",
        "X_train, X_test, y_train, y_test = train_test_split(X_data, y_target,\n",
        "                                                    test_size = 0.2, random_state = 42)\n",
        "\n",
        "model = LinearRegression()\n",
        "model.fit(X_train, y_train)\n",
        "\n",
        "print('단순 선형회귀 모형의 설명력 (R2 Score) :')\n",
        "print('이 모형은 학습한 데이터에서 주택가격의 {:.1f}%를 설명한다'.format(model.score(X_train, y_train) * 100))\n",
        "print('이 모형은 테스트 데이터에서 주택가격의 {:.1f}%를 설명한다'.format(model.score(X_test, y_test) * 100))"
      ],
      "metadata": {
        "id": "SYW0cEbiEi27"
      },
      "execution_count": null,
      "outputs": []
    },
    {
      "cell_type": "markdown",
      "source": [
        "##4. 다른 모든 변수를 다 넣은 다중 회귀분석\n",
        "\n",
        "주택 가격 ~ 다른 모든 변수"
      ],
      "metadata": {
        "id": "M5jA__zKE-w2"
      }
    },
    {
      "cell_type": "markdown",
      "source": [
        "이때, 주택 가격을 제외하는 것을 명심하자!\n",
        "\n",
        "-> **굉장히 성능이 좋다면 예측할 값을 포함하지 않았나 의심할 필요가 있다**"
      ],
      "metadata": {
        "id": "m4rRK-3oE09U"
      }
    },
    {
      "cell_type": "code",
      "source": [
        "y_target = housing['MEDV'] #출력값\n",
        "X_data = housing.drop(['MEDV'], axis = 1, inplace = False) #입력값\n",
        "\n",
        "X_train, X_test, y_train, y_test = train_test_split(X_data, y_target,\n",
        "                                                    test_size = 0.2, random_state = 42)\n",
        "\n",
        "model = LinearRegression()\n",
        "model.fit(X_train, y_train)\n",
        "\n",
        "print('단순 선형회귀 모형의 설명력 (R2 Score) :')\n",
        "print('이 모형은 학습한 데이터에서 주택가격의 {:.1f}%를 설명한다'.format(model.score(X_train, y_train) * 100))\n",
        "print('이 모형은 테스트 데이터에서 주택가격의 {:.1f}%를 설명한다'.format(model.score(X_test, y_test) * 100))"
      ],
      "metadata": {
        "colab": {
          "base_uri": "https://localhost:8080/"
        },
        "id": "qHxc2kGdFNlD",
        "outputId": "86e34670-311c-4ccd-8e3a-8af8ae93b7fd"
      },
      "execution_count": null,
      "outputs": [
        {
          "output_type": "stream",
          "name": "stdout",
          "text": [
            "단순 선형회귀 모형의 설명력 (R2 Score) :\n",
            "이 모형은 학습한 데이터에서 주택가격의 75.1%를 설명한다\n",
            "이 모형은 테스트 데이터에서 주택가격의 66.9%를 설명한다\n"
          ]
        }
      ]
    },
    {
      "cell_type": "markdown",
      "source": [
        "변수를 다 넣었더니 성능이 굉장히 좋아졌다"
      ],
      "metadata": {
        "id": "LEvN28yhG5w2"
      }
    },
    {
      "cell_type": "markdown",
      "source": [
        "##그럼 변수 다 때려 넣으면 되겠네?"
      ],
      "metadata": {
        "id": "pNkJehpNIfou"
      }
    },
    {
      "cell_type": "markdown",
      "source": [
        "선형모델의 전제조건인 선형성, 정규분포 등 검증은 필수\n",
        "\n",
        "검증되지 않은 변수를 넣는 것은 모델 신뢰성 문제 발생\n",
        "\n",
        "변수가 늘어날 경우에 계산량, 계산시간 및 모델이 복잡해지면 '결과물 해석'에 관한 이슈 발생\n",
        "\n",
        "**-> 즉, 가장 단순한 모델이 가장 좋다!**\n",
        "\n",
        "모델에 들어가는 데이터와 변수를 줄이면서도 성능을 유지하기 위한 싸움이다"
      ],
      "metadata": {
        "id": "tt2ZSh3IIkZ0"
      }
    },
    {
      "cell_type": "markdown",
      "source": [
        "##분석 다음엔 해석"
      ],
      "metadata": {
        "id": "Cja_tJlMJJzJ"
      }
    },
    {
      "cell_type": "markdown",
      "source": [
        "**모델의 정확도 지표** - MSE, RMSE가 작을수록 더 정확한 모형\n",
        "\n",
        "MSE(평균 제곱 오차, mean squared error)\n",
        "\n",
        "-> 제곱 오차합의 평균\n",
        "\n",
        "RMSER(평균 제곱근 오차, root mean square error)\n",
        "\n",
        "-> MSE의 루트를 씌운 것"
      ],
      "metadata": {
        "id": "AkVzT9W0Ji2b"
      }
    },
    {
      "cell_type": "markdown",
      "source": [
        "**모델의 설명력 지표** - 결정 계수\n",
        "R^2: 타깃의 분산(변동)중에서 모델에 의해 설명되는 비율\n",
        "\n",
        "- 0에서 1사이, 1에 가까울 수록 회귀식은 실제 데이터를 잘 추정한 것\n",
        "\n",
        "R^2 = 1 - ESS(오차제곱합) / TSS(전체제곱합)\n",
        "\n",
        "\n",
        "= RSS(회귀제곱합) / TSS(전체 제곱합)"
      ],
      "metadata": {
        "id": "KpaDelQPJ3c0"
      }
    },
    {
      "cell_type": "markdown",
      "source": [
        "**선형회귀분석 성능평가를 위한 모듈 호출**"
      ],
      "metadata": {
        "id": "FOmNGLtKKgu_"
      }
    },
    {
      "cell_type": "code",
      "source": [
        "import pandas as pd\n",
        "import numpy as np\n",
        "\n",
        "from sklearn.linear_model import LinearRegression\n",
        "from sklearn.model_selection import train_test_split\n",
        "\n",
        "from sklearn.metrics import mean_squared_error, r2_score\n",
        "#RMSE = mean_squared_error(y, y_pred)**0.5\n",
        "\n",
        "import seaborn as sns\n",
        "import matplotlib.pyplot as plt\n",
        "%matplotlib inline\n",
        "\n",
        "import warnings\n",
        "warnings.filterwarnings('ignore')"
      ],
      "metadata": {
        "id": "3J_etJFiFlNn"
      },
      "execution_count": null,
      "outputs": []
    },
    {
      "cell_type": "markdown",
      "source": [
        "###주택 가격(MEDV)을 방의 개수(RM)로 예측한 모델의 해석"
      ],
      "metadata": {
        "id": "e0ZXIMyaLdiO"
      }
    },
    {
      "cell_type": "markdown",
      "source": [
        "1. 입, 출력값 입력 및 모형 형성"
      ],
      "metadata": {
        "id": "hto5R-NAMMOG"
      }
    },
    {
      "cell_type": "code",
      "source": [
        "y_target = housing['MEDV']\n",
        "X_data = housing[['RM']]\n",
        "\n",
        "X_train, X_test, y_train, y_test = train_test_split(X_data, y_target,\n",
        "                                                    test_size = 0.2, random_state = 42)\n",
        "\n",
        "model = LinearRegression()\n",
        "model.fit(X_train, y_train)\n",
        "\n",
        "y_train_preds = model.predict(X_train) #훈련용 데이터의 예측값\n",
        "y_test_preds = model.predict(X_test) #테스트 데이터의 예측값"
      ],
      "metadata": {
        "id": "BbD-00nALadA"
      },
      "execution_count": null,
      "outputs": []
    },
    {
      "cell_type": "markdown",
      "source": [
        "2. 모형의 성능 평가: 정확도와 설명력"
      ],
      "metadata": {
        "id": "qFgg-E-nMQZE"
      }
    },
    {
      "cell_type": "code",
      "source": [
        "#학습한 데이터에 대한 모형의 정확도 평가\n",
        "mse_train = mean_squared_error(y_train, y_train_preds)\n",
        "rmse_train = np.sqrt(mse_train)\n",
        "\n",
        "#테스트 데이터에 대한 모형의 정확도 평가\n",
        "mse_test = mean_squared_error(y_test, y_test_preds)\n",
        "rmse_test = np.sqrt(mse_test)"
      ],
      "metadata": {
        "id": "Uqs5fZ0hMTqF"
      },
      "execution_count": null,
      "outputs": []
    },
    {
      "cell_type": "code",
      "source": [
        "print(\"학습한 데이터에 대한 모형의 성능 :\")\n",
        "print('정확도(RMSE) : {:.3f}'.format(rmse_train))\n",
        "print('설명력(R2) : {:.3f}'.format(r2_score(y_train, y_train_preds)))\n",
        "print('\\n')\n",
        "print(\"테스트 데이터에 대한 모형의 성능 :\")\n",
        "print('정확도(RMSE) : {:.3f}'.format(rmse_test))\n",
        "print('설명력(R2) : {:.3f}'.format(r2_score(y_test, y_test_preds)))"
      ],
      "metadata": {
        "colab": {
          "base_uri": "https://localhost:8080/"
        },
        "id": "56lur3IqMkVn",
        "outputId": "f173c3c4-90ba-4ee9-88cb-503871a354f1"
      },
      "execution_count": null,
      "outputs": [
        {
          "output_type": "stream",
          "name": "stdout",
          "text": [
            "학습한 데이터에 대한 모형의 성능 :\n",
            "정확도(RMSE) : 6.557\n",
            "설명력(R2) : 0.505\n",
            "\n",
            "\n",
            "테스트 데이터에 대한 모형의 성능 :\n",
            "정확도(RMSE) : 6.793\n",
            "설명력(R2) : 0.371\n"
          ]
        }
      ]
    },
    {
      "cell_type": "markdown",
      "source": [
        "한개의 변수 치고는 설명력이 나쁘지 않네?\n",
        "\n",
        "그렇다면 주택 가격(MEDV)은 방의 개수(RM)에 얼마만큼 영향을 받는가?"
      ],
      "metadata": {
        "id": "1hdXuKH8WF3X"
      }
    },
    {
      "cell_type": "code",
      "source": [
        "model.intercept_ #절편 - 독립변수가 모두 0일 때 y의 값"
      ],
      "metadata": {
        "colab": {
          "base_uri": "https://localhost:8080/"
        },
        "id": "3pdbVP6SWPj2",
        "outputId": "54fd114f-1b2d-49d9-bd7b-3f2022b48a02"
      },
      "execution_count": null,
      "outputs": [
        {
          "output_type": "execute_result",
          "data": {
            "text/plain": [
              "-36.24631889813795"
            ]
          },
          "metadata": {},
          "execution_count": 21
        }
      ]
    },
    {
      "cell_type": "code",
      "source": [
        "model.coef_ #기울기 (입력변수의 가중치 - 회귀계수)"
      ],
      "metadata": {
        "colab": {
          "base_uri": "https://localhost:8080/"
        },
        "id": "2AJFedjzWj8I",
        "outputId": "88ed6a40-ec50-4c98-af78-81aeb5dfa611"
      },
      "execution_count": null,
      "outputs": [
        {
          "output_type": "execute_result",
          "data": {
            "text/plain": [
              "array([9.34830141])"
            ]
          },
          "metadata": {},
          "execution_count": 22
        }
      ]
    },
    {
      "cell_type": "code",
      "source": [
        "X_data.columns #모형의 입력변수"
      ],
      "metadata": {
        "colab": {
          "base_uri": "https://localhost:8080/"
        },
        "id": "i6EIMcPmWoQn",
        "outputId": "dbd09454-b203-498c-b35c-2b96a139fdd9"
      },
      "execution_count": null,
      "outputs": [
        {
          "output_type": "execute_result",
          "data": {
            "text/plain": [
              "Index(['RM'], dtype='object')"
            ]
          },
          "metadata": {},
          "execution_count": 23
        }
      ]
    },
    {
      "cell_type": "code",
      "source": [
        "print('intercept : ', model.intercept_)\n",
        "coeff = pd.Series(data = np.round(model.coef_, 5), index = X_data.columns)\n",
        "print(coeff)\n",
        "print('\\n')\n",
        "print('주택당 방의 개수가 1 증가할때마다 집값은 {:.2f}$ 증가한다'.format(coeff[0] * 1000))"
      ],
      "metadata": {
        "colab": {
          "base_uri": "https://localhost:8080/"
        },
        "id": "69CJ9eXmWsnO",
        "outputId": "ca4120e4-1fd2-4877-c5f7-8ffbaa353c33"
      },
      "execution_count": null,
      "outputs": [
        {
          "output_type": "stream",
          "name": "stdout",
          "text": [
            "intercept :  -36.24631889813795\n",
            "RM    9.3483\n",
            "dtype: float64\n",
            "\n",
            "\n",
            "주택당 방의 개수가 1 증가할때마다 집값은 9348.30$ 증가한다\n"
          ]
        }
      ]
    },
    {
      "cell_type": "markdown",
      "source": [
        "### 다중선형회귀 해석\n",
        "\n",
        "주택 가격 ~ 방의 개수 + 저소득층 비율 + 교사/학생수 비율"
      ],
      "metadata": {
        "id": "c5UAYRYpX1Xw"
      }
    },
    {
      "cell_type": "code",
      "source": [
        "y_target = housing['MEDV'] #출력값\n",
        "X_data = housing[['RM', 'LSTAT', 'PTRATIO']] #입력값\n",
        "\n",
        "X_train, X_test, y_train, y_test = train_test_split(X_data, y_target,\n",
        "                                                    test_size = 0.2, random_state = 42)\n",
        "\n",
        "model = LinearRegression()\n",
        "model.fit(X_train, y_train)\n",
        "\n",
        "y_train_preds = model.predict(X_train)\n",
        "y_test_preds = model.predict(X_test)"
      ],
      "metadata": {
        "id": "_OHKiF92X998"
      },
      "execution_count": null,
      "outputs": []
    },
    {
      "cell_type": "code",
      "source": [
        "#학습한 데이터에 대한 모형의 정확도 평가\n",
        "mse_train = mean_squared_error(y_train, y_train_preds)\n",
        "rmse_train = np.sqrt(mse_train)\n",
        "\n",
        "#테스트 데이터에 대한 모형의 정확도 평가\n",
        "mse_test = mean_squared_error(y_test, y_test_preds)\n",
        "rmse_test = np.sqrt(mse_test)\n",
        "\n",
        "print(\"학습한 데이터에 대한 모형의 성능 :\")\n",
        "print('정확도(RMSE) : {:.3f}'.format(rmse_train))\n",
        "print('설명력(R2) : {:.3f}'.format(r2_score(y_train, y_train_preds)))\n",
        "print('\\n')\n",
        "print(\"테스트 데이터에 대한 모형의 성능 :\")\n",
        "print('정확도(RMSE) : {:.3f}'.format(rmse_test))\n",
        "print('설명력(R2) : {:.3f}'.format(r2_score(y_test, y_test_preds)))"
      ],
      "metadata": {
        "colab": {
          "base_uri": "https://localhost:8080/"
        },
        "id": "I7OnxNA-Ykdm",
        "outputId": "9bd844f5-4c6c-4f35-fe23-0561725cc7f3"
      },
      "execution_count": null,
      "outputs": [
        {
          "output_type": "stream",
          "name": "stdout",
          "text": [
            "학습한 데이터에 대한 모형의 성능 :\n",
            "정확도(RMSE) : 5.219\n",
            "설명력(R2) : 0.686\n",
            "\n",
            "\n",
            "테스트 데이터에 대한 모형의 성능 :\n",
            "정확도(RMSE) : 5.207\n",
            "설명력(R2) : 0.630\n"
          ]
        }
      ]
    },
    {
      "cell_type": "markdown",
      "source": [
        "변수를 추가하니 둘 다 향상되었음을 알 수 있음"
      ],
      "metadata": {
        "id": "1dB3I37uZJEX"
      }
    },
    {
      "cell_type": "code",
      "source": [
        "model.coef_ #기울기(회귀계수)\n",
        "\n",
        "X_data.columns #모형의 입력변수\n",
        "\n",
        "print('intercept : ', model.intercept_)\n",
        "coeff = pd.Series(data = np.round(model.coef_, 5), index = X_data.columns)\n",
        "print(coeff.sort_values(ascending = False))"
      ],
      "metadata": {
        "colab": {
          "base_uri": "https://localhost:8080/"
        },
        "id": "9uSrUr5pZPZK",
        "outputId": "becd9914-060d-4c77-f95f-f3f569e1dd09"
      },
      "execution_count": null,
      "outputs": [
        {
          "output_type": "stream",
          "name": "stdout",
          "text": [
            "intercept :  14.588099261571061\n",
            "RM         4.93312\n",
            "LSTAT     -0.56713\n",
            "PTRATIO   -0.86709\n",
            "dtype: float64\n"
          ]
        }
      ]
    },
    {
      "cell_type": "code",
      "source": [
        "print('주택당 방의 개수가 1 증가할때마다 집값은 {:.2f}$ 증가한다'.format(coeff[0] * 1000))\n",
        "print('저소득층 비율이 1 증가할때마다 집값은 {:.2f}$ 감소한다'.format(coeff[1] * 1000))\n",
        "print('학생/교사 비율이 1 증가할때마다 집값은 {:.2f}$ 감소한다'.format(coeff[2] * 1000))"
      ],
      "metadata": {
        "colab": {
          "base_uri": "https://localhost:8080/"
        },
        "id": "ctFjmv8UZtRn",
        "outputId": "989a66c6-5947-46c9-a64b-418e93654853"
      },
      "execution_count": null,
      "outputs": [
        {
          "output_type": "stream",
          "name": "stdout",
          "text": [
            "주택당 방의 개수가 1 증가할때마다 집값은 4933.12$ 증가한다\n",
            "저소득층 비율이 1 증가할때마다 집값은 -567.13$ 감소한다\n",
            "학생/교사 비율이 1 증가할때마다 집값은 -867.09$ 감소한다\n"
          ]
        }
      ]
    },
    {
      "cell_type": "markdown",
      "source": [
        "변수를 추가했을 때 오히려 성능이 저하된다면? 변수 선택이 잘못되었다"
      ],
      "metadata": {
        "id": "Fx-hrqLQajQL"
      }
    },
    {
      "cell_type": "markdown",
      "source": [
        "설명변수가 1개면 직선으로 표시가 가능하지만,\n",
        "\n",
        "설명변수가 2개인 경우는 3차원 데이터로 2차원 초평면모델로 설명한다"
      ],
      "metadata": {
        "id": "O5KygLAxaw4J"
      }
    },
    {
      "cell_type": "markdown",
      "source": [
        "고도화 될수록 해석은 어렵다\n",
        "\n",
        "해석 되지 않는 분석은 쓰일 수 없다\n",
        "\n",
        "쓰일 수 없는 분석은 분석이 아니다\n",
        "\n",
        "데싸들의 업무는 어려운 것을 쉽게 풀어 모두가 쓸 수 있게 만들어 내는 과정이라서 어렵다"
      ],
      "metadata": {
        "id": "3I0X-soGcRic"
      }
    },
    {
      "cell_type": "code",
      "source": [
        ""
      ],
      "metadata": {
        "id": "Jz1ucsy0aEX7"
      },
      "execution_count": null,
      "outputs": []
    },
    {
      "cell_type": "code",
      "source": [
        ""
      ],
      "metadata": {
        "id": "Pdy1sjVLa599"
      },
      "execution_count": null,
      "outputs": []
    }
  ]
}